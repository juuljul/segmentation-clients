{
 "cells": [
  {
   "cell_type": "markdown",
   "metadata": {},
   "source": [
    "## Mission\n",
    "\n",
    "La mission est d’aider les équipes de l'entreprise brésilienne Olist à comprendre ses différents types d'utilisateurs. L'idée est d'utiliser des méthodes non supervisées pour regrouper des clients de profils similaires.\n",
    "Il faut donc fournir à l’équipe Marketing d'Olist une description actionable de segmentation et la logique sous-jacente pour une utilisation optimale, ainsi qu’une proposition de contrat de maintenance basée sur une analyse de la stabilité des segments au cours du temps.\n",
    "\n",
    "#### [Importation des différents datasets](#importation-donnees)\n",
    " - [Customers](#customers)\n",
    " - [Geolocation](#geolocation)\n",
    " - [Order items](#order-items)\n",
    " - [Order payments](#order-payments)\n",
    " - [Order reviews](#order-reviews)\n",
    " - [Orders](#orders)\n",
    " - [Products](#products)\n",
    " - [Sellers](#sellers)\n",
    " - [Product category name translation](#product-category-name-translation)\n",
    " - [Résumé des datasets](#resume-datasets)\n",
    "\n",
    "\n",
    "#### [Création d'un dataset étendu à partir des commandes](#création-dun-dataset-étendu-à-partir-des-commandes)\n",
    " - [Jointure entre order_items et orders](#jointure-entre-order_items-et-orders)\n",
    " - [Filtre des commandes non livrées](#filtre-des-commandes-non-livrées)\n",
    " - [Répartition des commandes sur la durée du dataset)](#répartition-des-commandes-sur-la-durée-du-dataset)\n",
    " - [Nombre de commandes par mois, jour de la semaine, heure](#nombre-de-commandes-par-mois-jour-heure)\n",
    " - [Boxplot des chiffres d'affaires en fonction du mois](#boxplot)\n",
    " - [Création des colonnes duration_delivery et difference_real_estimated_delivery](#creation-duration)\n",
    "\n",
    " #### [Satisfaction: ajout de order_reviews](#satisfaction-ajout-de-order_reviews)\n",
    " - [Création de number_reviews: nombre de commentaires par commande](#creation-number-reviews)\n",
    " - [Répartition du score attribué aux commandes](#répartition-des-scores-attribués-aux-commandes)\n",
    " - [Scatter plots: scores de satisfaction par rapport au temps de livraison réel, et à la différence réel - estimé](#scatter-plots-scores-de-satisfaction-par-rapport-au-temps-de-livraison-réel-et-à-la-différence-réel---estimé)\n",
    "\n",
    "#### [Ajout des modalités de paiement](#ajout-des-modalités-de-paiement)\n",
    " - [Répartition des moyens de paiement par commande](#répartitions-des-moyens-de-paiement-par-commande)\n",
    "\n",
    "#### [Ajout des produits](#ajout-des-produits)\n",
    " - [Jointure avec la traduction en anglais des types de produit](#jointure-avec-la-traduction-en-anglais-des-types-de-produits)\n",
    " - [Distribution des catégories de produits](#distribution-des-catégories-de-produits)\n",
    " - [Jointure avec le dataset products](#jointure-avec-le-dataset-products)\n",
    " - [Feature engineering: simplification des types de produits](#feature-engineering-simplification-des-types-de-produits)\n",
    " - [Répartition des catégories de produits](#répartition-des-catégories-de-produits)\n",
    "\n",
    "#### [Ajout des localisations](#ajout-des-localisations)\n",
    " - [Jointure avec le dataset customers](#jointure-avec-le-dataset-customers)\n",
    " - [Jointure avec le dataset sellers](#jointure-avec-le-dataset-sellers)\n",
    " - [Distance Haversine entre le vendeur et l'acheteur](#distance-haversine-entre-le-vendeur-et-lacheteur)\n",
    "\n",
    "\n",
    "#### [Récence, Fréquence, Montant](#récence-fréquence-montant)\n",
    "\n"
   ]
  },
  {
   "cell_type": "markdown",
   "metadata": {},
   "source": [
    "<a id='importation-donnees'></a>\n",
    "### Importation des différents datasets"
   ]
  },
  {
   "cell_type": "markdown",
   "metadata": {},
   "source": [
    "#### Customers"
   ]
  },
  {
   "cell_type": "code",
   "execution_count": 1,
   "metadata": {},
   "outputs": [
    {
     "data": {
      "text/plain": [
       "(99441, 5)"
      ]
     },
     "execution_count": 1,
     "metadata": {},
     "output_type": "execute_result"
    }
   ],
   "source": [
    "import pandas as pd\n",
    "import numpy as np\n",
    "import matplotlib.pyplot as plt\n",
    "import seaborn as sns\n",
    "import scipy.stats as st\n",
    "\n",
    "customers = pd.read_csv(\"olist/olist_customers_dataset.csv\")\n",
    "customers.shape\n"
   ]
  },
  {
   "cell_type": "code",
   "execution_count": 2,
   "metadata": {},
   "outputs": [
    {
     "data": {
      "text/html": [
       "<div>\n",
       "<style scoped>\n",
       "    .dataframe tbody tr th:only-of-type {\n",
       "        vertical-align: middle;\n",
       "    }\n",
       "\n",
       "    .dataframe tbody tr th {\n",
       "        vertical-align: top;\n",
       "    }\n",
       "\n",
       "    .dataframe thead th {\n",
       "        text-align: right;\n",
       "    }\n",
       "</style>\n",
       "<table border=\"1\" class=\"dataframe\">\n",
       "  <thead>\n",
       "    <tr style=\"text-align: right;\">\n",
       "      <th></th>\n",
       "      <th>customer_id</th>\n",
       "      <th>customer_unique_id</th>\n",
       "      <th>customer_zip_code_prefix</th>\n",
       "      <th>customer_city</th>\n",
       "      <th>customer_state</th>\n",
       "    </tr>\n",
       "  </thead>\n",
       "  <tbody>\n",
       "    <tr>\n",
       "      <th>98709</th>\n",
       "      <td>a801360fcad89119ab97d96f5818e379</td>\n",
       "      <td>9ff2179ba2c564188e00d0de93023e15</td>\n",
       "      <td>6150</td>\n",
       "      <td>osasco</td>\n",
       "      <td>SP</td>\n",
       "    </tr>\n",
       "    <tr>\n",
       "      <th>51715</th>\n",
       "      <td>6e0cfceb2d49f48738767d48272a8ea8</td>\n",
       "      <td>4c2fca8629c137347d177109a9a755bc</td>\n",
       "      <td>58701</td>\n",
       "      <td>patos</td>\n",
       "      <td>PB</td>\n",
       "    </tr>\n",
       "    <tr>\n",
       "      <th>15406</th>\n",
       "      <td>dcc865b0a392f4d72458ec0677e1f085</td>\n",
       "      <td>0f95258527026365d80664a88544bdbb</td>\n",
       "      <td>33115</td>\n",
       "      <td>santa luzia</td>\n",
       "      <td>MG</td>\n",
       "    </tr>\n",
       "    <tr>\n",
       "      <th>30476</th>\n",
       "      <td>93c614a0e7397b6bf4173f3c62cc0c87</td>\n",
       "      <td>cea24d7104b107365c53eb0cc5c4eb66</td>\n",
       "      <td>81820</td>\n",
       "      <td>curitiba</td>\n",
       "      <td>PR</td>\n",
       "    </tr>\n",
       "    <tr>\n",
       "      <th>93599</th>\n",
       "      <td>95306421a0aa01b3d9c6ade87d80313d</td>\n",
       "      <td>b6669bf46b4633cd119e3ad6b4426c3d</td>\n",
       "      <td>9230</td>\n",
       "      <td>santo andre</td>\n",
       "      <td>SP</td>\n",
       "    </tr>\n",
       "  </tbody>\n",
       "</table>\n",
       "</div>"
      ],
      "text/plain": [
       "                            customer_id                customer_unique_id  \\\n",
       "98709  a801360fcad89119ab97d96f5818e379  9ff2179ba2c564188e00d0de93023e15   \n",
       "51715  6e0cfceb2d49f48738767d48272a8ea8  4c2fca8629c137347d177109a9a755bc   \n",
       "15406  dcc865b0a392f4d72458ec0677e1f085  0f95258527026365d80664a88544bdbb   \n",
       "30476  93c614a0e7397b6bf4173f3c62cc0c87  cea24d7104b107365c53eb0cc5c4eb66   \n",
       "93599  95306421a0aa01b3d9c6ade87d80313d  b6669bf46b4633cd119e3ad6b4426c3d   \n",
       "\n",
       "       customer_zip_code_prefix customer_city customer_state  \n",
       "98709                      6150        osasco             SP  \n",
       "51715                     58701         patos             PB  \n",
       "15406                     33115   santa luzia             MG  \n",
       "30476                     81820      curitiba             PR  \n",
       "93599                      9230   santo andre             SP  "
      ]
     },
     "execution_count": 2,
     "metadata": {},
     "output_type": "execute_result"
    }
   ],
   "source": [
    "customers.sample(5)"
   ]
  },
  {
   "cell_type": "code",
   "execution_count": 3,
   "metadata": {},
   "outputs": [
    {
     "name": "stdout",
     "output_type": "stream",
     "text": [
      "<class 'pandas.core.frame.DataFrame'>\n",
      "RangeIndex: 99441 entries, 0 to 99440\n",
      "Data columns (total 5 columns):\n",
      " #   Column                    Non-Null Count  Dtype \n",
      "---  ------                    --------------  ----- \n",
      " 0   customer_id               99441 non-null  object\n",
      " 1   customer_unique_id        99441 non-null  object\n",
      " 2   customer_zip_code_prefix  99441 non-null  int64 \n",
      " 3   customer_city             99441 non-null  object\n",
      " 4   customer_state            99441 non-null  object\n",
      "dtypes: int64(1), object(4)\n",
      "memory usage: 3.8+ MB\n"
     ]
    }
   ],
   "source": [
    "customers.info()"
   ]
  },
  {
   "cell_type": "markdown",
   "metadata": {},
   "source": [
    "En résumé, customers: id, zip code, ville, état..."
   ]
  },
  {
   "cell_type": "markdown",
   "metadata": {},
   "source": [
    "#### Geolocation"
   ]
  },
  {
   "cell_type": "code",
   "execution_count": 4,
   "metadata": {},
   "outputs": [
    {
     "data": {
      "text/plain": [
       "(1000163, 5)"
      ]
     },
     "execution_count": 4,
     "metadata": {},
     "output_type": "execute_result"
    }
   ],
   "source": [
    "geolocation = pd.read_csv(\"olist/olist_geolocation_dataset.csv\")\n",
    "geolocation.shape"
   ]
  },
  {
   "cell_type": "code",
   "execution_count": 5,
   "metadata": {},
   "outputs": [
    {
     "data": {
      "text/html": [
       "<div>\n",
       "<style scoped>\n",
       "    .dataframe tbody tr th:only-of-type {\n",
       "        vertical-align: middle;\n",
       "    }\n",
       "\n",
       "    .dataframe tbody tr th {\n",
       "        vertical-align: top;\n",
       "    }\n",
       "\n",
       "    .dataframe thead th {\n",
       "        text-align: right;\n",
       "    }\n",
       "</style>\n",
       "<table border=\"1\" class=\"dataframe\">\n",
       "  <thead>\n",
       "    <tr style=\"text-align: right;\">\n",
       "      <th></th>\n",
       "      <th>geolocation_zip_code_prefix</th>\n",
       "      <th>geolocation_lat</th>\n",
       "      <th>geolocation_lng</th>\n",
       "      <th>geolocation_city</th>\n",
       "      <th>geolocation_state</th>\n",
       "    </tr>\n",
       "  </thead>\n",
       "  <tbody>\n",
       "    <tr>\n",
       "      <th>672491</th>\n",
       "      <td>40352</td>\n",
       "      <td>-12.941292</td>\n",
       "      <td>-38.477888</td>\n",
       "      <td>salvador</td>\n",
       "      <td>BA</td>\n",
       "    </tr>\n",
       "    <tr>\n",
       "      <th>985342</th>\n",
       "      <td>97095</td>\n",
       "      <td>-29.701118</td>\n",
       "      <td>-53.772068</td>\n",
       "      <td>santa maria</td>\n",
       "      <td>RS</td>\n",
       "    </tr>\n",
       "    <tr>\n",
       "      <th>763503</th>\n",
       "      <td>66063</td>\n",
       "      <td>-1.454341</td>\n",
       "      <td>-48.468980</td>\n",
       "      <td>belem</td>\n",
       "      <td>PA</td>\n",
       "    </tr>\n",
       "    <tr>\n",
       "      <th>859722</th>\n",
       "      <td>83005</td>\n",
       "      <td>-25.538509</td>\n",
       "      <td>-49.196763</td>\n",
       "      <td>sao jose dos pinhais</td>\n",
       "      <td>PR</td>\n",
       "    </tr>\n",
       "    <tr>\n",
       "      <th>813959</th>\n",
       "      <td>76825</td>\n",
       "      <td>-8.744528</td>\n",
       "      <td>-63.847299</td>\n",
       "      <td>porto velho</td>\n",
       "      <td>RO</td>\n",
       "    </tr>\n",
       "  </tbody>\n",
       "</table>\n",
       "</div>"
      ],
      "text/plain": [
       "        geolocation_zip_code_prefix  geolocation_lat  geolocation_lng  \\\n",
       "672491                        40352       -12.941292       -38.477888   \n",
       "985342                        97095       -29.701118       -53.772068   \n",
       "763503                        66063        -1.454341       -48.468980   \n",
       "859722                        83005       -25.538509       -49.196763   \n",
       "813959                        76825        -8.744528       -63.847299   \n",
       "\n",
       "            geolocation_city geolocation_state  \n",
       "672491              salvador                BA  \n",
       "985342           santa maria                RS  \n",
       "763503                 belem                PA  \n",
       "859722  sao jose dos pinhais                PR  \n",
       "813959           porto velho                RO  "
      ]
     },
     "execution_count": 5,
     "metadata": {},
     "output_type": "execute_result"
    }
   ],
   "source": [
    "geolocation.sample(5)"
   ]
  },
  {
   "cell_type": "code",
   "execution_count": 6,
   "metadata": {},
   "outputs": [
    {
     "name": "stdout",
     "output_type": "stream",
     "text": [
      "<class 'pandas.core.frame.DataFrame'>\n",
      "RangeIndex: 1000163 entries, 0 to 1000162\n",
      "Data columns (total 5 columns):\n",
      " #   Column                       Non-Null Count    Dtype  \n",
      "---  ------                       --------------    -----  \n",
      " 0   geolocation_zip_code_prefix  1000163 non-null  int64  \n",
      " 1   geolocation_lat              1000163 non-null  float64\n",
      " 2   geolocation_lng              1000163 non-null  float64\n",
      " 3   geolocation_city             1000163 non-null  object \n",
      " 4   geolocation_state            1000163 non-null  object \n",
      "dtypes: float64(2), int64(1), object(2)\n",
      "memory usage: 38.2+ MB\n"
     ]
    }
   ],
   "source": [
    "geolocation.info()"
   ]
  },
  {
   "cell_type": "markdown",
   "metadata": {},
   "source": [
    "En résumé, geolocation: latitude, longitude, ville, état, zip code"
   ]
  },
  {
   "cell_type": "markdown",
   "metadata": {},
   "source": [
    "#### Order Items"
   ]
  },
  {
   "cell_type": "code",
   "execution_count": 7,
   "metadata": {},
   "outputs": [
    {
     "data": {
      "text/plain": [
       "(112650, 7)"
      ]
     },
     "execution_count": 7,
     "metadata": {},
     "output_type": "execute_result"
    }
   ],
   "source": [
    "order_items = pd.read_csv(\"olist/olist_order_items_dataset.csv\")\n",
    "order_items.shape"
   ]
  },
  {
   "cell_type": "code",
   "execution_count": 8,
   "metadata": {},
   "outputs": [
    {
     "data": {
      "text/html": [
       "<div>\n",
       "<style scoped>\n",
       "    .dataframe tbody tr th:only-of-type {\n",
       "        vertical-align: middle;\n",
       "    }\n",
       "\n",
       "    .dataframe tbody tr th {\n",
       "        vertical-align: top;\n",
       "    }\n",
       "\n",
       "    .dataframe thead th {\n",
       "        text-align: right;\n",
       "    }\n",
       "</style>\n",
       "<table border=\"1\" class=\"dataframe\">\n",
       "  <thead>\n",
       "    <tr style=\"text-align: right;\">\n",
       "      <th></th>\n",
       "      <th>order_id</th>\n",
       "      <th>order_item_id</th>\n",
       "      <th>product_id</th>\n",
       "      <th>seller_id</th>\n",
       "      <th>shipping_limit_date</th>\n",
       "      <th>price</th>\n",
       "      <th>freight_value</th>\n",
       "    </tr>\n",
       "  </thead>\n",
       "  <tbody>\n",
       "    <tr>\n",
       "      <th>942</th>\n",
       "      <td>02332b54c758506809fd87d9c2748086</td>\n",
       "      <td>1</td>\n",
       "      <td>4100a608bd0aa524b06ffefba973707b</td>\n",
       "      <td>2a61c271b1ac763450d846849783e922</td>\n",
       "      <td>2017-11-10 13:07:08</td>\n",
       "      <td>32.99</td>\n",
       "      <td>21.15</td>\n",
       "    </tr>\n",
       "    <tr>\n",
       "      <th>24822</th>\n",
       "      <td>388a9117213936e0290e6e7d50f9fee0</td>\n",
       "      <td>1</td>\n",
       "      <td>4fcb3d9a5f4871e8362dfedbdb02b064</td>\n",
       "      <td>8581055ce74af1daba164fdbd55a40de</td>\n",
       "      <td>2017-05-10 21:15:15</td>\n",
       "      <td>143.80</td>\n",
       "      <td>17.64</td>\n",
       "    </tr>\n",
       "    <tr>\n",
       "      <th>97937</th>\n",
       "      <td>de28e8b3c44bdad3ecda851978e1599c</td>\n",
       "      <td>1</td>\n",
       "      <td>7c4dcc33f7e49dc0d25078b036baa162</td>\n",
       "      <td>7142540dd4c91e2237acb7e911c4eba2</td>\n",
       "      <td>2017-10-24 11:56:36</td>\n",
       "      <td>59.90</td>\n",
       "      <td>17.67</td>\n",
       "    </tr>\n",
       "    <tr>\n",
       "      <th>8845</th>\n",
       "      <td>143a94013dbe03feb57f03420bd2bd15</td>\n",
       "      <td>1</td>\n",
       "      <td>d315b738a6e96f4d9710af966cb7cd5b</td>\n",
       "      <td>f8db351d8c4c4c22c6835c19a46f01b0</td>\n",
       "      <td>2018-07-24 20:50:13</td>\n",
       "      <td>26.90</td>\n",
       "      <td>7.45</td>\n",
       "    </tr>\n",
       "    <tr>\n",
       "      <th>16412</th>\n",
       "      <td>258fdca015115622abad4d8ac1a13ae4</td>\n",
       "      <td>1</td>\n",
       "      <td>5b7c8200bab71ae7cc1a0a7073b6afa1</td>\n",
       "      <td>dbc22125167c298ef99da25668e1011f</td>\n",
       "      <td>2018-01-15 20:37:24</td>\n",
       "      <td>40.90</td>\n",
       "      <td>17.92</td>\n",
       "    </tr>\n",
       "  </tbody>\n",
       "</table>\n",
       "</div>"
      ],
      "text/plain": [
       "                               order_id  order_item_id  \\\n",
       "942    02332b54c758506809fd87d9c2748086              1   \n",
       "24822  388a9117213936e0290e6e7d50f9fee0              1   \n",
       "97937  de28e8b3c44bdad3ecda851978e1599c              1   \n",
       "8845   143a94013dbe03feb57f03420bd2bd15              1   \n",
       "16412  258fdca015115622abad4d8ac1a13ae4              1   \n",
       "\n",
       "                             product_id                         seller_id  \\\n",
       "942    4100a608bd0aa524b06ffefba973707b  2a61c271b1ac763450d846849783e922   \n",
       "24822  4fcb3d9a5f4871e8362dfedbdb02b064  8581055ce74af1daba164fdbd55a40de   \n",
       "97937  7c4dcc33f7e49dc0d25078b036baa162  7142540dd4c91e2237acb7e911c4eba2   \n",
       "8845   d315b738a6e96f4d9710af966cb7cd5b  f8db351d8c4c4c22c6835c19a46f01b0   \n",
       "16412  5b7c8200bab71ae7cc1a0a7073b6afa1  dbc22125167c298ef99da25668e1011f   \n",
       "\n",
       "       shipping_limit_date   price  freight_value  \n",
       "942    2017-11-10 13:07:08   32.99          21.15  \n",
       "24822  2017-05-10 21:15:15  143.80          17.64  \n",
       "97937  2017-10-24 11:56:36   59.90          17.67  \n",
       "8845   2018-07-24 20:50:13   26.90           7.45  \n",
       "16412  2018-01-15 20:37:24   40.90          17.92  "
      ]
     },
     "execution_count": 8,
     "metadata": {},
     "output_type": "execute_result"
    }
   ],
   "source": [
    "order_items.sample(5)"
   ]
  },
  {
   "cell_type": "code",
   "execution_count": 9,
   "metadata": {},
   "outputs": [
    {
     "name": "stdout",
     "output_type": "stream",
     "text": [
      "<class 'pandas.core.frame.DataFrame'>\n",
      "RangeIndex: 112650 entries, 0 to 112649\n",
      "Data columns (total 7 columns):\n",
      " #   Column               Non-Null Count   Dtype  \n",
      "---  ------               --------------   -----  \n",
      " 0   order_id             112650 non-null  object \n",
      " 1   order_item_id        112650 non-null  int64  \n",
      " 2   product_id           112650 non-null  object \n",
      " 3   seller_id            112650 non-null  object \n",
      " 4   shipping_limit_date  112650 non-null  object \n",
      " 5   price                112650 non-null  float64\n",
      " 6   freight_value        112650 non-null  float64\n",
      "dtypes: float64(2), int64(1), object(4)\n",
      "memory usage: 6.0+ MB\n"
     ]
    }
   ],
   "source": [
    "order_items.info()"
   ]
  },
  {
   "cell_type": "markdown",
   "metadata": {},
   "source": [
    "En résumé, order items: order_id, product_id, seller_id, prix, taxes ..."
   ]
  },
  {
   "cell_type": "markdown",
   "metadata": {},
   "source": [
    "#### Order Payments"
   ]
  },
  {
   "cell_type": "code",
   "execution_count": 10,
   "metadata": {},
   "outputs": [
    {
     "data": {
      "text/plain": [
       "(103886, 5)"
      ]
     },
     "execution_count": 10,
     "metadata": {},
     "output_type": "execute_result"
    }
   ],
   "source": [
    "order_payments = pd.read_csv(\"olist/olist_order_payments_dataset.csv\")\n",
    "order_payments.shape"
   ]
  },
  {
   "cell_type": "code",
   "execution_count": 11,
   "metadata": {},
   "outputs": [
    {
     "data": {
      "text/html": [
       "<div>\n",
       "<style scoped>\n",
       "    .dataframe tbody tr th:only-of-type {\n",
       "        vertical-align: middle;\n",
       "    }\n",
       "\n",
       "    .dataframe tbody tr th {\n",
       "        vertical-align: top;\n",
       "    }\n",
       "\n",
       "    .dataframe thead th {\n",
       "        text-align: right;\n",
       "    }\n",
       "</style>\n",
       "<table border=\"1\" class=\"dataframe\">\n",
       "  <thead>\n",
       "    <tr style=\"text-align: right;\">\n",
       "      <th></th>\n",
       "      <th>order_id</th>\n",
       "      <th>payment_sequential</th>\n",
       "      <th>payment_type</th>\n",
       "      <th>payment_installments</th>\n",
       "      <th>payment_value</th>\n",
       "    </tr>\n",
       "  </thead>\n",
       "  <tbody>\n",
       "    <tr>\n",
       "      <th>32087</th>\n",
       "      <td>5d9aa8310b11548297163fbfa1f78184</td>\n",
       "      <td>1</td>\n",
       "      <td>credit_card</td>\n",
       "      <td>6</td>\n",
       "      <td>67.22</td>\n",
       "    </tr>\n",
       "    <tr>\n",
       "      <th>19936</th>\n",
       "      <td>0cb67a1f07ecacac318a6eb35cf4928f</td>\n",
       "      <td>1</td>\n",
       "      <td>credit_card</td>\n",
       "      <td>1</td>\n",
       "      <td>62.15</td>\n",
       "    </tr>\n",
       "    <tr>\n",
       "      <th>78276</th>\n",
       "      <td>9cb058ec33cf6725b0fc1cf24525af9c</td>\n",
       "      <td>1</td>\n",
       "      <td>credit_card</td>\n",
       "      <td>4</td>\n",
       "      <td>318.05</td>\n",
       "    </tr>\n",
       "    <tr>\n",
       "      <th>53944</th>\n",
       "      <td>906a6b0a96d89ee226e4977e99b80b9e</td>\n",
       "      <td>1</td>\n",
       "      <td>credit_card</td>\n",
       "      <td>1</td>\n",
       "      <td>91.96</td>\n",
       "    </tr>\n",
       "    <tr>\n",
       "      <th>26741</th>\n",
       "      <td>0ebc490cadb55779894fe2a498e64439</td>\n",
       "      <td>1</td>\n",
       "      <td>credit_card</td>\n",
       "      <td>10</td>\n",
       "      <td>338.27</td>\n",
       "    </tr>\n",
       "  </tbody>\n",
       "</table>\n",
       "</div>"
      ],
      "text/plain": [
       "                               order_id  payment_sequential payment_type  \\\n",
       "32087  5d9aa8310b11548297163fbfa1f78184                   1  credit_card   \n",
       "19936  0cb67a1f07ecacac318a6eb35cf4928f                   1  credit_card   \n",
       "78276  9cb058ec33cf6725b0fc1cf24525af9c                   1  credit_card   \n",
       "53944  906a6b0a96d89ee226e4977e99b80b9e                   1  credit_card   \n",
       "26741  0ebc490cadb55779894fe2a498e64439                   1  credit_card   \n",
       "\n",
       "       payment_installments  payment_value  \n",
       "32087                     6          67.22  \n",
       "19936                     1          62.15  \n",
       "78276                     4         318.05  \n",
       "53944                     1          91.96  \n",
       "26741                    10         338.27  "
      ]
     },
     "execution_count": 11,
     "metadata": {},
     "output_type": "execute_result"
    }
   ],
   "source": [
    "order_payments.sample(5)"
   ]
  },
  {
   "cell_type": "code",
   "execution_count": 12,
   "metadata": {},
   "outputs": [
    {
     "name": "stdout",
     "output_type": "stream",
     "text": [
      "<class 'pandas.core.frame.DataFrame'>\n",
      "RangeIndex: 103886 entries, 0 to 103885\n",
      "Data columns (total 5 columns):\n",
      " #   Column                Non-Null Count   Dtype  \n",
      "---  ------                --------------   -----  \n",
      " 0   order_id              103886 non-null  object \n",
      " 1   payment_sequential    103886 non-null  int64  \n",
      " 2   payment_type          103886 non-null  object \n",
      " 3   payment_installments  103886 non-null  int64  \n",
      " 4   payment_value         103886 non-null  float64\n",
      "dtypes: float64(1), int64(2), object(2)\n",
      "memory usage: 4.0+ MB\n"
     ]
    }
   ],
   "source": [
    "order_payments.info()"
   ]
  },
  {
   "cell_type": "markdown",
   "metadata": {},
   "source": [
    "En résumé, order_payments: order_id, prix, type paiement, nb versements..."
   ]
  },
  {
   "cell_type": "markdown",
   "metadata": {},
   "source": [
    "#### Order Reviews"
   ]
  },
  {
   "cell_type": "code",
   "execution_count": 13,
   "metadata": {},
   "outputs": [
    {
     "data": {
      "text/plain": [
       "(99224, 7)"
      ]
     },
     "execution_count": 13,
     "metadata": {},
     "output_type": "execute_result"
    }
   ],
   "source": [
    "order_reviews = pd.read_csv(\"olist/olist_order_reviews_dataset.csv\")\n",
    "order_reviews.shape"
   ]
  },
  {
   "cell_type": "code",
   "execution_count": 14,
   "metadata": {},
   "outputs": [
    {
     "data": {
      "text/html": [
       "<div>\n",
       "<style scoped>\n",
       "    .dataframe tbody tr th:only-of-type {\n",
       "        vertical-align: middle;\n",
       "    }\n",
       "\n",
       "    .dataframe tbody tr th {\n",
       "        vertical-align: top;\n",
       "    }\n",
       "\n",
       "    .dataframe thead th {\n",
       "        text-align: right;\n",
       "    }\n",
       "</style>\n",
       "<table border=\"1\" class=\"dataframe\">\n",
       "  <thead>\n",
       "    <tr style=\"text-align: right;\">\n",
       "      <th></th>\n",
       "      <th>review_id</th>\n",
       "      <th>order_id</th>\n",
       "      <th>review_score</th>\n",
       "      <th>review_comment_title</th>\n",
       "      <th>review_comment_message</th>\n",
       "      <th>review_creation_date</th>\n",
       "      <th>review_answer_timestamp</th>\n",
       "    </tr>\n",
       "  </thead>\n",
       "  <tbody>\n",
       "    <tr>\n",
       "      <th>78214</th>\n",
       "      <td>2536536d7a57a6f7d457de0b6c8191b3</td>\n",
       "      <td>f3d59d2aeafa9e69103f4dbad2b5ec46</td>\n",
       "      <td>4</td>\n",
       "      <td>NaN</td>\n",
       "      <td>NaN</td>\n",
       "      <td>2018-01-30 00:00:00</td>\n",
       "      <td>2018-01-30 20:15:47</td>\n",
       "    </tr>\n",
       "    <tr>\n",
       "      <th>8386</th>\n",
       "      <td>569106620fcb046a5047cc889705317c</td>\n",
       "      <td>33550c45cf1fd94c9f755293fb9591c0</td>\n",
       "      <td>5</td>\n",
       "      <td>NaN</td>\n",
       "      <td>NaN</td>\n",
       "      <td>2017-12-07 00:00:00</td>\n",
       "      <td>2017-12-10 00:27:21</td>\n",
       "    </tr>\n",
       "    <tr>\n",
       "      <th>55686</th>\n",
       "      <td>27f6ba74fac67e2701377840651d3dcf</td>\n",
       "      <td>34aed6e4313d7573b0d3b459f3a805ea</td>\n",
       "      <td>4</td>\n",
       "      <td>NaN</td>\n",
       "      <td>NaN</td>\n",
       "      <td>2017-11-15 00:00:00</td>\n",
       "      <td>2017-11-16 00:10:42</td>\n",
       "    </tr>\n",
       "    <tr>\n",
       "      <th>90921</th>\n",
       "      <td>90e42703cf78bf3683c54f20b2ade3c3</td>\n",
       "      <td>028116828b6e9f2b8070f1c4f66c68f0</td>\n",
       "      <td>5</td>\n",
       "      <td>NaN</td>\n",
       "      <td>NaN</td>\n",
       "      <td>2017-12-02 00:00:00</td>\n",
       "      <td>2017-12-03 14:47:36</td>\n",
       "    </tr>\n",
       "    <tr>\n",
       "      <th>10818</th>\n",
       "      <td>d75f79cfb2ba451e610ce47df71dfccb</td>\n",
       "      <td>dd103933801d1fccfa8cf84150eae10a</td>\n",
       "      <td>5</td>\n",
       "      <td>NaN</td>\n",
       "      <td>gostei chegou no prazo, preço bom</td>\n",
       "      <td>2018-01-17 00:00:00</td>\n",
       "      <td>2018-01-18 12:05:01</td>\n",
       "    </tr>\n",
       "  </tbody>\n",
       "</table>\n",
       "</div>"
      ],
      "text/plain": [
       "                              review_id                          order_id  \\\n",
       "78214  2536536d7a57a6f7d457de0b6c8191b3  f3d59d2aeafa9e69103f4dbad2b5ec46   \n",
       "8386   569106620fcb046a5047cc889705317c  33550c45cf1fd94c9f755293fb9591c0   \n",
       "55686  27f6ba74fac67e2701377840651d3dcf  34aed6e4313d7573b0d3b459f3a805ea   \n",
       "90921  90e42703cf78bf3683c54f20b2ade3c3  028116828b6e9f2b8070f1c4f66c68f0   \n",
       "10818  d75f79cfb2ba451e610ce47df71dfccb  dd103933801d1fccfa8cf84150eae10a   \n",
       "\n",
       "       review_score review_comment_title             review_comment_message  \\\n",
       "78214             4                  NaN                                NaN   \n",
       "8386              5                  NaN                                NaN   \n",
       "55686             4                  NaN                                NaN   \n",
       "90921             5                  NaN                                NaN   \n",
       "10818             5                  NaN  gostei chegou no prazo, preço bom   \n",
       "\n",
       "      review_creation_date review_answer_timestamp  \n",
       "78214  2018-01-30 00:00:00     2018-01-30 20:15:47  \n",
       "8386   2017-12-07 00:00:00     2017-12-10 00:27:21  \n",
       "55686  2017-11-15 00:00:00     2017-11-16 00:10:42  \n",
       "90921  2017-12-02 00:00:00     2017-12-03 14:47:36  \n",
       "10818  2018-01-17 00:00:00     2018-01-18 12:05:01  "
      ]
     },
     "execution_count": 14,
     "metadata": {},
     "output_type": "execute_result"
    }
   ],
   "source": [
    "order_reviews.sample(5)"
   ]
  },
  {
   "cell_type": "code",
   "execution_count": 15,
   "metadata": {},
   "outputs": [
    {
     "name": "stdout",
     "output_type": "stream",
     "text": [
      "<class 'pandas.core.frame.DataFrame'>\n",
      "RangeIndex: 99224 entries, 0 to 99223\n",
      "Data columns (total 7 columns):\n",
      " #   Column                   Non-Null Count  Dtype \n",
      "---  ------                   --------------  ----- \n",
      " 0   review_id                99224 non-null  object\n",
      " 1   order_id                 99224 non-null  object\n",
      " 2   review_score             99224 non-null  int64 \n",
      " 3   review_comment_title     11568 non-null  object\n",
      " 4   review_comment_message   40977 non-null  object\n",
      " 5   review_creation_date     99224 non-null  object\n",
      " 6   review_answer_timestamp  99224 non-null  object\n",
      "dtypes: int64(1), object(6)\n",
      "memory usage: 5.3+ MB\n"
     ]
    }
   ],
   "source": [
    "order_reviews.info()"
   ]
  },
  {
   "cell_type": "markdown",
   "metadata": {},
   "source": [
    "En résumé, order_reviews: order_id, avis titre, avis message..."
   ]
  },
  {
   "cell_type": "markdown",
   "metadata": {},
   "source": [
    "#### Orders"
   ]
  },
  {
   "cell_type": "code",
   "execution_count": 16,
   "metadata": {},
   "outputs": [
    {
     "data": {
      "text/plain": [
       "(99441, 8)"
      ]
     },
     "execution_count": 16,
     "metadata": {},
     "output_type": "execute_result"
    }
   ],
   "source": [
    "orders = pd.read_csv(\"olist/olist_orders_dataset.csv\")\n",
    "orders.shape"
   ]
  },
  {
   "cell_type": "code",
   "execution_count": 17,
   "metadata": {},
   "outputs": [
    {
     "data": {
      "text/html": [
       "<div>\n",
       "<style scoped>\n",
       "    .dataframe tbody tr th:only-of-type {\n",
       "        vertical-align: middle;\n",
       "    }\n",
       "\n",
       "    .dataframe tbody tr th {\n",
       "        vertical-align: top;\n",
       "    }\n",
       "\n",
       "    .dataframe thead th {\n",
       "        text-align: right;\n",
       "    }\n",
       "</style>\n",
       "<table border=\"1\" class=\"dataframe\">\n",
       "  <thead>\n",
       "    <tr style=\"text-align: right;\">\n",
       "      <th></th>\n",
       "      <th>order_id</th>\n",
       "      <th>customer_id</th>\n",
       "      <th>order_status</th>\n",
       "      <th>order_purchase_timestamp</th>\n",
       "      <th>order_approved_at</th>\n",
       "      <th>order_delivered_carrier_date</th>\n",
       "      <th>order_delivered_customer_date</th>\n",
       "      <th>order_estimated_delivery_date</th>\n",
       "    </tr>\n",
       "  </thead>\n",
       "  <tbody>\n",
       "    <tr>\n",
       "      <th>83499</th>\n",
       "      <td>df0fc2525c393ef5bcd58db7516a0fcb</td>\n",
       "      <td>6f7e4eda4a91a18114c7ae6458f4068b</td>\n",
       "      <td>delivered</td>\n",
       "      <td>2018-05-06 10:06:00</td>\n",
       "      <td>2018-05-06 10:30:49</td>\n",
       "      <td>2018-05-07 09:08:00</td>\n",
       "      <td>2018-05-15 21:07:42</td>\n",
       "      <td>2018-05-30 00:00:00</td>\n",
       "    </tr>\n",
       "    <tr>\n",
       "      <th>28242</th>\n",
       "      <td>7bf279350473c54b5d435d700ee6af2e</td>\n",
       "      <td>26c41ae59ad5b339b1a33a20b210af68</td>\n",
       "      <td>delivered</td>\n",
       "      <td>2017-11-29 03:33:53</td>\n",
       "      <td>2017-11-29 03:53:37</td>\n",
       "      <td>2017-11-29 15:03:23</td>\n",
       "      <td>2017-12-07 18:09:50</td>\n",
       "      <td>2017-12-20 00:00:00</td>\n",
       "    </tr>\n",
       "    <tr>\n",
       "      <th>24442</th>\n",
       "      <td>72f73037e114c82d0b49a74b4d7532a4</td>\n",
       "      <td>7a2f3fea8b2d7476c6c3e1ce334c4d57</td>\n",
       "      <td>delivered</td>\n",
       "      <td>2018-01-05 17:05:46</td>\n",
       "      <td>2018-01-06 02:08:00</td>\n",
       "      <td>2018-01-09 17:05:45</td>\n",
       "      <td>2018-01-16 14:55:18</td>\n",
       "      <td>2018-02-02 00:00:00</td>\n",
       "    </tr>\n",
       "    <tr>\n",
       "      <th>7510</th>\n",
       "      <td>ae25aaffc9b89e8519bb9b5aa59cc8ef</td>\n",
       "      <td>e5245a61cf63870720b6559bad5d35e8</td>\n",
       "      <td>delivered</td>\n",
       "      <td>2017-01-24 12:18:07</td>\n",
       "      <td>2017-01-24 12:25:27</td>\n",
       "      <td>2017-01-26 10:34:58</td>\n",
       "      <td>2017-02-08 15:15:04</td>\n",
       "      <td>2017-03-03 00:00:00</td>\n",
       "    </tr>\n",
       "    <tr>\n",
       "      <th>6037</th>\n",
       "      <td>39dab0c9ea1c7c66a1a516423f50c97a</td>\n",
       "      <td>33f7e823808ce786ac284e32b07cf6e4</td>\n",
       "      <td>delivered</td>\n",
       "      <td>2017-05-08 17:51:05</td>\n",
       "      <td>2017-05-09 09:45:19</td>\n",
       "      <td>2017-05-12 14:17:02</td>\n",
       "      <td>2017-05-22 14:33:18</td>\n",
       "      <td>2017-06-12 00:00:00</td>\n",
       "    </tr>\n",
       "  </tbody>\n",
       "</table>\n",
       "</div>"
      ],
      "text/plain": [
       "                               order_id                       customer_id  \\\n",
       "83499  df0fc2525c393ef5bcd58db7516a0fcb  6f7e4eda4a91a18114c7ae6458f4068b   \n",
       "28242  7bf279350473c54b5d435d700ee6af2e  26c41ae59ad5b339b1a33a20b210af68   \n",
       "24442  72f73037e114c82d0b49a74b4d7532a4  7a2f3fea8b2d7476c6c3e1ce334c4d57   \n",
       "7510   ae25aaffc9b89e8519bb9b5aa59cc8ef  e5245a61cf63870720b6559bad5d35e8   \n",
       "6037   39dab0c9ea1c7c66a1a516423f50c97a  33f7e823808ce786ac284e32b07cf6e4   \n",
       "\n",
       "      order_status order_purchase_timestamp    order_approved_at  \\\n",
       "83499    delivered      2018-05-06 10:06:00  2018-05-06 10:30:49   \n",
       "28242    delivered      2017-11-29 03:33:53  2017-11-29 03:53:37   \n",
       "24442    delivered      2018-01-05 17:05:46  2018-01-06 02:08:00   \n",
       "7510     delivered      2017-01-24 12:18:07  2017-01-24 12:25:27   \n",
       "6037     delivered      2017-05-08 17:51:05  2017-05-09 09:45:19   \n",
       "\n",
       "      order_delivered_carrier_date order_delivered_customer_date  \\\n",
       "83499          2018-05-07 09:08:00           2018-05-15 21:07:42   \n",
       "28242          2017-11-29 15:03:23           2017-12-07 18:09:50   \n",
       "24442          2018-01-09 17:05:45           2018-01-16 14:55:18   \n",
       "7510           2017-01-26 10:34:58           2017-02-08 15:15:04   \n",
       "6037           2017-05-12 14:17:02           2017-05-22 14:33:18   \n",
       "\n",
       "      order_estimated_delivery_date  \n",
       "83499           2018-05-30 00:00:00  \n",
       "28242           2017-12-20 00:00:00  \n",
       "24442           2018-02-02 00:00:00  \n",
       "7510            2017-03-03 00:00:00  \n",
       "6037            2017-06-12 00:00:00  "
      ]
     },
     "execution_count": 17,
     "metadata": {},
     "output_type": "execute_result"
    }
   ],
   "source": [
    "orders.sample(5)"
   ]
  },
  {
   "cell_type": "code",
   "execution_count": 18,
   "metadata": {},
   "outputs": [
    {
     "name": "stdout",
     "output_type": "stream",
     "text": [
      "<class 'pandas.core.frame.DataFrame'>\n",
      "RangeIndex: 99441 entries, 0 to 99440\n",
      "Data columns (total 8 columns):\n",
      " #   Column                         Non-Null Count  Dtype \n",
      "---  ------                         --------------  ----- \n",
      " 0   order_id                       99441 non-null  object\n",
      " 1   customer_id                    99441 non-null  object\n",
      " 2   order_status                   99441 non-null  object\n",
      " 3   order_purchase_timestamp       99441 non-null  object\n",
      " 4   order_approved_at              99281 non-null  object\n",
      " 5   order_delivered_carrier_date   97658 non-null  object\n",
      " 6   order_delivered_customer_date  96476 non-null  object\n",
      " 7   order_estimated_delivery_date  99441 non-null  object\n",
      "dtypes: object(8)\n",
      "memory usage: 6.1+ MB\n"
     ]
    }
   ],
   "source": [
    "orders.info()"
   ]
  },
  {
   "cell_type": "markdown",
   "metadata": {},
   "source": [
    "En résumé, orders: order_id, acheteur id, date achat, date livraison... "
   ]
  },
  {
   "cell_type": "markdown",
   "metadata": {},
   "source": [
    "#### Products"
   ]
  },
  {
   "cell_type": "code",
   "execution_count": 19,
   "metadata": {},
   "outputs": [
    {
     "data": {
      "text/plain": [
       "(32951, 9)"
      ]
     },
     "execution_count": 19,
     "metadata": {},
     "output_type": "execute_result"
    }
   ],
   "source": [
    "products = pd.read_csv(\"olist/olist_products_dataset.csv\")\n",
    "products.shape"
   ]
  },
  {
   "cell_type": "code",
   "execution_count": 20,
   "metadata": {},
   "outputs": [
    {
     "data": {
      "text/plain": [
       "product_category_name\n",
       "cama_mesa_banho                  3029\n",
       "esporte_lazer                    2867\n",
       "moveis_decoracao                 2657\n",
       "beleza_saude                     2444\n",
       "utilidades_domesticas            2335\n",
       "                                 ... \n",
       "fashion_roupa_infanto_juvenil       5\n",
       "casa_conforto_2                     5\n",
       "pc_gamer                            3\n",
       "seguros_e_servicos                  2\n",
       "cds_dvds_musicais                   1\n",
       "Name: count, Length: 73, dtype: int64"
      ]
     },
     "execution_count": 20,
     "metadata": {},
     "output_type": "execute_result"
    }
   ],
   "source": [
    "products['product_category_name'].value_counts()"
   ]
  },
  {
   "cell_type": "code",
   "execution_count": 21,
   "metadata": {},
   "outputs": [
    {
     "data": {
      "text/html": [
       "<div>\n",
       "<style scoped>\n",
       "    .dataframe tbody tr th:only-of-type {\n",
       "        vertical-align: middle;\n",
       "    }\n",
       "\n",
       "    .dataframe tbody tr th {\n",
       "        vertical-align: top;\n",
       "    }\n",
       "\n",
       "    .dataframe thead th {\n",
       "        text-align: right;\n",
       "    }\n",
       "</style>\n",
       "<table border=\"1\" class=\"dataframe\">\n",
       "  <thead>\n",
       "    <tr style=\"text-align: right;\">\n",
       "      <th></th>\n",
       "      <th>product_id</th>\n",
       "      <th>product_category_name</th>\n",
       "      <th>product_name_lenght</th>\n",
       "      <th>product_description_lenght</th>\n",
       "      <th>product_photos_qty</th>\n",
       "      <th>product_weight_g</th>\n",
       "      <th>product_length_cm</th>\n",
       "      <th>product_height_cm</th>\n",
       "      <th>product_width_cm</th>\n",
       "    </tr>\n",
       "  </thead>\n",
       "  <tbody>\n",
       "    <tr>\n",
       "      <th>2582</th>\n",
       "      <td>3264eb8097906cea4af2f4a56e2447ed</td>\n",
       "      <td>relogios_presentes</td>\n",
       "      <td>57.0</td>\n",
       "      <td>723.0</td>\n",
       "      <td>5.0</td>\n",
       "      <td>200.0</td>\n",
       "      <td>16.0</td>\n",
       "      <td>2.0</td>\n",
       "      <td>11.0</td>\n",
       "    </tr>\n",
       "    <tr>\n",
       "      <th>27930</th>\n",
       "      <td>e888edddeb449bde570d695c62b27b26</td>\n",
       "      <td>informatica_acessorios</td>\n",
       "      <td>60.0</td>\n",
       "      <td>501.0</td>\n",
       "      <td>1.0</td>\n",
       "      <td>300.0</td>\n",
       "      <td>16.0</td>\n",
       "      <td>16.0</td>\n",
       "      <td>16.0</td>\n",
       "    </tr>\n",
       "    <tr>\n",
       "      <th>3682</th>\n",
       "      <td>fb9b26e56f7f624662ef9df82889f63d</td>\n",
       "      <td>fashion_bolsas_e_acessorios</td>\n",
       "      <td>29.0</td>\n",
       "      <td>830.0</td>\n",
       "      <td>1.0</td>\n",
       "      <td>50.0</td>\n",
       "      <td>16.0</td>\n",
       "      <td>5.0</td>\n",
       "      <td>16.0</td>\n",
       "    </tr>\n",
       "    <tr>\n",
       "      <th>6609</th>\n",
       "      <td>1d722f14297e49c1db0545e1f7ec764f</td>\n",
       "      <td>moveis_decoracao</td>\n",
       "      <td>45.0</td>\n",
       "      <td>2047.0</td>\n",
       "      <td>1.0</td>\n",
       "      <td>1700.0</td>\n",
       "      <td>46.0</td>\n",
       "      <td>19.0</td>\n",
       "      <td>15.0</td>\n",
       "    </tr>\n",
       "    <tr>\n",
       "      <th>12690</th>\n",
       "      <td>97fd40ea17a0e785880ce09373b2900a</td>\n",
       "      <td>moveis_decoracao</td>\n",
       "      <td>46.0</td>\n",
       "      <td>1246.0</td>\n",
       "      <td>1.0</td>\n",
       "      <td>1200.0</td>\n",
       "      <td>54.0</td>\n",
       "      <td>8.0</td>\n",
       "      <td>11.0</td>\n",
       "    </tr>\n",
       "  </tbody>\n",
       "</table>\n",
       "</div>"
      ],
      "text/plain": [
       "                             product_id        product_category_name  \\\n",
       "2582   3264eb8097906cea4af2f4a56e2447ed           relogios_presentes   \n",
       "27930  e888edddeb449bde570d695c62b27b26       informatica_acessorios   \n",
       "3682   fb9b26e56f7f624662ef9df82889f63d  fashion_bolsas_e_acessorios   \n",
       "6609   1d722f14297e49c1db0545e1f7ec764f             moveis_decoracao   \n",
       "12690  97fd40ea17a0e785880ce09373b2900a             moveis_decoracao   \n",
       "\n",
       "       product_name_lenght  product_description_lenght  product_photos_qty  \\\n",
       "2582                  57.0                       723.0                 5.0   \n",
       "27930                 60.0                       501.0                 1.0   \n",
       "3682                  29.0                       830.0                 1.0   \n",
       "6609                  45.0                      2047.0                 1.0   \n",
       "12690                 46.0                      1246.0                 1.0   \n",
       "\n",
       "       product_weight_g  product_length_cm  product_height_cm  \\\n",
       "2582              200.0               16.0                2.0   \n",
       "27930             300.0               16.0               16.0   \n",
       "3682               50.0               16.0                5.0   \n",
       "6609             1700.0               46.0               19.0   \n",
       "12690            1200.0               54.0                8.0   \n",
       "\n",
       "       product_width_cm  \n",
       "2582               11.0  \n",
       "27930              16.0  \n",
       "3682               16.0  \n",
       "6609               15.0  \n",
       "12690              11.0  "
      ]
     },
     "execution_count": 21,
     "metadata": {},
     "output_type": "execute_result"
    }
   ],
   "source": [
    "products.sample(5)"
   ]
  },
  {
   "cell_type": "code",
   "execution_count": 22,
   "metadata": {},
   "outputs": [
    {
     "name": "stdout",
     "output_type": "stream",
     "text": [
      "<class 'pandas.core.frame.DataFrame'>\n",
      "RangeIndex: 32951 entries, 0 to 32950\n",
      "Data columns (total 9 columns):\n",
      " #   Column                      Non-Null Count  Dtype  \n",
      "---  ------                      --------------  -----  \n",
      " 0   product_id                  32951 non-null  object \n",
      " 1   product_category_name       32341 non-null  object \n",
      " 2   product_name_lenght         32341 non-null  float64\n",
      " 3   product_description_lenght  32341 non-null  float64\n",
      " 4   product_photos_qty          32341 non-null  float64\n",
      " 5   product_weight_g            32949 non-null  float64\n",
      " 6   product_length_cm           32949 non-null  float64\n",
      " 7   product_height_cm           32949 non-null  float64\n",
      " 8   product_width_cm            32949 non-null  float64\n",
      "dtypes: float64(7), object(2)\n",
      "memory usage: 2.3+ MB\n"
     ]
    }
   ],
   "source": [
    "products.info()"
   ]
  },
  {
   "cell_type": "markdown",
   "metadata": {},
   "source": [
    "En résumé, products: product_id, categorie, taille, poids..."
   ]
  },
  {
   "cell_type": "markdown",
   "metadata": {},
   "source": [
    "#### Sellers"
   ]
  },
  {
   "cell_type": "code",
   "execution_count": 23,
   "metadata": {},
   "outputs": [
    {
     "data": {
      "text/plain": [
       "(3095, 4)"
      ]
     },
     "execution_count": 23,
     "metadata": {},
     "output_type": "execute_result"
    }
   ],
   "source": [
    "sellers = pd.read_csv(\"olist/olist_sellers_dataset.csv\")\n",
    "sellers.shape"
   ]
  },
  {
   "cell_type": "code",
   "execution_count": 24,
   "metadata": {},
   "outputs": [
    {
     "data": {
      "text/html": [
       "<div>\n",
       "<style scoped>\n",
       "    .dataframe tbody tr th:only-of-type {\n",
       "        vertical-align: middle;\n",
       "    }\n",
       "\n",
       "    .dataframe tbody tr th {\n",
       "        vertical-align: top;\n",
       "    }\n",
       "\n",
       "    .dataframe thead th {\n",
       "        text-align: right;\n",
       "    }\n",
       "</style>\n",
       "<table border=\"1\" class=\"dataframe\">\n",
       "  <thead>\n",
       "    <tr style=\"text-align: right;\">\n",
       "      <th></th>\n",
       "      <th>seller_id</th>\n",
       "      <th>seller_zip_code_prefix</th>\n",
       "      <th>seller_city</th>\n",
       "      <th>seller_state</th>\n",
       "    </tr>\n",
       "  </thead>\n",
       "  <tbody>\n",
       "    <tr>\n",
       "      <th>1674</th>\n",
       "      <td>2c3d56f92f360fb89d849b84e8f50eae</td>\n",
       "      <td>6420</td>\n",
       "      <td>barueri</td>\n",
       "      <td>SP</td>\n",
       "    </tr>\n",
       "    <tr>\n",
       "      <th>1506</th>\n",
       "      <td>98e164d549402270247f3c96a1a158ef</td>\n",
       "      <td>5083</td>\n",
       "      <td>sao paulo</td>\n",
       "      <td>SP</td>\n",
       "    </tr>\n",
       "    <tr>\n",
       "      <th>2686</th>\n",
       "      <td>e5e33c0d8e7e002f398f5dc4cbbb338f</td>\n",
       "      <td>17032</td>\n",
       "      <td>bauru</td>\n",
       "      <td>SP</td>\n",
       "    </tr>\n",
       "    <tr>\n",
       "      <th>1830</th>\n",
       "      <td>30a81d8cf85fb2ada1b1b094c9583a95</td>\n",
       "      <td>3563</td>\n",
       "      <td>sao paulo</td>\n",
       "      <td>SP</td>\n",
       "    </tr>\n",
       "    <tr>\n",
       "      <th>1775</th>\n",
       "      <td>f3c38ab652836d21de61fb8314b69182</td>\n",
       "      <td>1206</td>\n",
       "      <td>sao paulo</td>\n",
       "      <td>SP</td>\n",
       "    </tr>\n",
       "  </tbody>\n",
       "</table>\n",
       "</div>"
      ],
      "text/plain": [
       "                             seller_id  seller_zip_code_prefix seller_city  \\\n",
       "1674  2c3d56f92f360fb89d849b84e8f50eae                    6420     barueri   \n",
       "1506  98e164d549402270247f3c96a1a158ef                    5083   sao paulo   \n",
       "2686  e5e33c0d8e7e002f398f5dc4cbbb338f                   17032       bauru   \n",
       "1830  30a81d8cf85fb2ada1b1b094c9583a95                    3563   sao paulo   \n",
       "1775  f3c38ab652836d21de61fb8314b69182                    1206   sao paulo   \n",
       "\n",
       "     seller_state  \n",
       "1674           SP  \n",
       "1506           SP  \n",
       "2686           SP  \n",
       "1830           SP  \n",
       "1775           SP  "
      ]
     },
     "execution_count": 24,
     "metadata": {},
     "output_type": "execute_result"
    }
   ],
   "source": [
    "sellers.sample(5)"
   ]
  },
  {
   "cell_type": "code",
   "execution_count": 25,
   "metadata": {},
   "outputs": [
    {
     "name": "stdout",
     "output_type": "stream",
     "text": [
      "<class 'pandas.core.frame.DataFrame'>\n",
      "RangeIndex: 3095 entries, 0 to 3094\n",
      "Data columns (total 4 columns):\n",
      " #   Column                  Non-Null Count  Dtype \n",
      "---  ------                  --------------  ----- \n",
      " 0   seller_id               3095 non-null   object\n",
      " 1   seller_zip_code_prefix  3095 non-null   int64 \n",
      " 2   seller_city             3095 non-null   object\n",
      " 3   seller_state            3095 non-null   object\n",
      "dtypes: int64(1), object(3)\n",
      "memory usage: 96.8+ KB\n"
     ]
    }
   ],
   "source": [
    "sellers.info()"
   ]
  },
  {
   "cell_type": "markdown",
   "metadata": {},
   "source": [
    "En résumé, sellers: seller_id, zipcode, ville, état"
   ]
  },
  {
   "cell_type": "markdown",
   "metadata": {},
   "source": [
    "#### Product category name translation"
   ]
  },
  {
   "cell_type": "code",
   "execution_count": 26,
   "metadata": {},
   "outputs": [
    {
     "data": {
      "text/plain": [
       "(71, 2)"
      ]
     },
     "execution_count": 26,
     "metadata": {},
     "output_type": "execute_result"
    }
   ],
   "source": [
    "product_category_name_translation = pd.read_csv(\"olist/product_category_name_translation.csv\")\n",
    "product_category_name_translation.shape"
   ]
  },
  {
   "cell_type": "code",
   "execution_count": 27,
   "metadata": {},
   "outputs": [
    {
     "data": {
      "text/html": [
       "<div>\n",
       "<style scoped>\n",
       "    .dataframe tbody tr th:only-of-type {\n",
       "        vertical-align: middle;\n",
       "    }\n",
       "\n",
       "    .dataframe tbody tr th {\n",
       "        vertical-align: top;\n",
       "    }\n",
       "\n",
       "    .dataframe thead th {\n",
       "        text-align: right;\n",
       "    }\n",
       "</style>\n",
       "<table border=\"1\" class=\"dataframe\">\n",
       "  <thead>\n",
       "    <tr style=\"text-align: right;\">\n",
       "      <th></th>\n",
       "      <th>product_category_name</th>\n",
       "      <th>product_category_name_english</th>\n",
       "    </tr>\n",
       "  </thead>\n",
       "  <tbody>\n",
       "    <tr>\n",
       "      <th>43</th>\n",
       "      <td>construcao_ferramentas_iluminacao</td>\n",
       "      <td>construction_tools_lights</td>\n",
       "    </tr>\n",
       "    <tr>\n",
       "      <th>58</th>\n",
       "      <td>bebidas</td>\n",
       "      <td>drinks</td>\n",
       "    </tr>\n",
       "    <tr>\n",
       "      <th>59</th>\n",
       "      <td>cine_foto</td>\n",
       "      <td>cine_photo</td>\n",
       "    </tr>\n",
       "    <tr>\n",
       "      <th>52</th>\n",
       "      <td>sinalizacao_e_seguranca</td>\n",
       "      <td>signaling_and_security</td>\n",
       "    </tr>\n",
       "    <tr>\n",
       "      <th>49</th>\n",
       "      <td>construcao_ferramentas_seguranca</td>\n",
       "      <td>construction_tools_safety</td>\n",
       "    </tr>\n",
       "  </tbody>\n",
       "</table>\n",
       "</div>"
      ],
      "text/plain": [
       "                product_category_name product_category_name_english\n",
       "43  construcao_ferramentas_iluminacao     construction_tools_lights\n",
       "58                            bebidas                        drinks\n",
       "59                          cine_foto                    cine_photo\n",
       "52            sinalizacao_e_seguranca        signaling_and_security\n",
       "49   construcao_ferramentas_seguranca     construction_tools_safety"
      ]
     },
     "execution_count": 27,
     "metadata": {},
     "output_type": "execute_result"
    }
   ],
   "source": [
    "product_category_name_translation.sample(5)"
   ]
  },
  {
   "cell_type": "code",
   "execution_count": 28,
   "metadata": {},
   "outputs": [
    {
     "name": "stdout",
     "output_type": "stream",
     "text": [
      "<class 'pandas.core.frame.DataFrame'>\n",
      "RangeIndex: 71 entries, 0 to 70\n",
      "Data columns (total 2 columns):\n",
      " #   Column                         Non-Null Count  Dtype \n",
      "---  ------                         --------------  ----- \n",
      " 0   product_category_name          71 non-null     object\n",
      " 1   product_category_name_english  71 non-null     object\n",
      "dtypes: object(2)\n",
      "memory usage: 1.2+ KB\n"
     ]
    }
   ],
   "source": [
    "product_category_name_translation.info()"
   ]
  },
  {
   "cell_type": "markdown",
   "metadata": {},
   "source": [
    "En résumé, product_category_name_translation: nom produit portugais, nom produit anglais"
   ]
  },
  {
   "cell_type": "markdown",
   "metadata": {},
   "source": [
    "<a id='resume-datasets'></a>\n",
    "#### Résumé des datasets"
   ]
  },
  {
   "cell_type": "markdown",
   "metadata": {},
   "source": [
    "**<font color=\"#1ade9e\">customers</font>**: customer_id, zip code, ville, état...  \n",
    "**<font color=\"#1ade9e\">geolocation</font>**: latitude, longitude, ville, état, zip code  \n",
    "**<font color=\"#1ade9e\">order_items</font>**: order_id, product_id, seller_id, prix, taxes ...  \n",
    "**<font color=\"#1ade9e\">order_payments</font>**: order_id, prix, type paiement, nb versements...  \n",
    "**<font color=\"#1ade9e\">order_reviews</font>**: order_id, avis titre, avis message...  \n",
    "**<font color=\"#1ade9e\">orders</font>**: order_id, customer_id, date achat, date livraison...  \n",
    "**<font color=\"#1ade9e\">products</font>**: product_id, categorie, taille, poids...  \n",
    "**<font color=\"#1ade9e\">sellers</font>**: seller_id, zipcode, ville, état  \n",
    "**<font color=\"#1ade9e\">product_category_name_translation</font>**: nom produit portugais, nom produit anglais  "
   ]
  },
  {
   "cell_type": "markdown",
   "metadata": {},
   "source": [
    "<a id='creation-datasets'></a>\n",
    "### Création d'un dataset étendu à partir des commandes "
   ]
  },
  {
   "cell_type": "markdown",
   "metadata": {},
   "source": [
    "#### Jointure entre order_items et orders"
   ]
  },
  {
   "cell_type": "code",
   "execution_count": 29,
   "metadata": {},
   "outputs": [
    {
     "data": {
      "text/html": [
       "<div>\n",
       "<style scoped>\n",
       "    .dataframe tbody tr th:only-of-type {\n",
       "        vertical-align: middle;\n",
       "    }\n",
       "\n",
       "    .dataframe tbody tr th {\n",
       "        vertical-align: top;\n",
       "    }\n",
       "\n",
       "    .dataframe thead th {\n",
       "        text-align: right;\n",
       "    }\n",
       "</style>\n",
       "<table border=\"1\" class=\"dataframe\">\n",
       "  <thead>\n",
       "    <tr style=\"text-align: right;\">\n",
       "      <th></th>\n",
       "      <th>order_id</th>\n",
       "      <th>order_item_id</th>\n",
       "      <th>product_id</th>\n",
       "      <th>seller_id</th>\n",
       "      <th>price</th>\n",
       "      <th>freight_value</th>\n",
       "      <th>customer_id</th>\n",
       "      <th>order_status</th>\n",
       "      <th>order_purchase_timestamp</th>\n",
       "      <th>order_delivered_customer_date</th>\n",
       "      <th>order_estimated_delivery_date</th>\n",
       "    </tr>\n",
       "  </thead>\n",
       "  <tbody>\n",
       "    <tr>\n",
       "      <th>83987</th>\n",
       "      <td>becf90dbbea6e1a229814dab50912be4</td>\n",
       "      <td>1</td>\n",
       "      <td>5d790355cbeded0cd60e25cbc4c527a2</td>\n",
       "      <td>229c3efbfb0ea2058de4ccdfbc3d784a</td>\n",
       "      <td>97.00</td>\n",
       "      <td>8.93</td>\n",
       "      <td>1b9b8bd7c25bb78a4a5fb5c9101dc6e4</td>\n",
       "      <td>delivered</td>\n",
       "      <td>2017-05-08 18:53:05</td>\n",
       "      <td>2017-05-13 11:22:40</td>\n",
       "      <td>2017-05-31 00:00:00</td>\n",
       "    </tr>\n",
       "    <tr>\n",
       "      <th>32918</th>\n",
       "      <td>4a987097277f21bd90f8d6e50af76593</td>\n",
       "      <td>1</td>\n",
       "      <td>c6f91a747904e6f2a5164c862c3b6633</td>\n",
       "      <td>f214d28e8d8e3ef068748498ccc2f813</td>\n",
       "      <td>24.99</td>\n",
       "      <td>22.11</td>\n",
       "      <td>b29693f7db88126b2b3dc47b54ab7d7f</td>\n",
       "      <td>delivered</td>\n",
       "      <td>2018-08-12 23:25:26</td>\n",
       "      <td>2018-08-21 16:42:58</td>\n",
       "      <td>2018-09-10 00:00:00</td>\n",
       "    </tr>\n",
       "    <tr>\n",
       "      <th>103957</th>\n",
       "      <td>ec1d3a645b2a221446df31f1dcbda3e2</td>\n",
       "      <td>1</td>\n",
       "      <td>28a652ff04e43c1bc57937a9f8770f9b</td>\n",
       "      <td>3d871de0142ce09b7081e2b9d1733cb1</td>\n",
       "      <td>139.00</td>\n",
       "      <td>27.52</td>\n",
       "      <td>c0b14a9776882d6ae80ac4db31ef2172</td>\n",
       "      <td>delivered</td>\n",
       "      <td>2018-01-11 19:50:54</td>\n",
       "      <td>2018-01-21 12:24:44</td>\n",
       "      <td>2018-02-06 00:00:00</td>\n",
       "    </tr>\n",
       "    <tr>\n",
       "      <th>44427</th>\n",
       "      <td>64f30c3979fdd4ceb17f8c398d2806f9</td>\n",
       "      <td>2</td>\n",
       "      <td>0aa889132d2e6b79778488c79d025d99</td>\n",
       "      <td>e62b2d6ac10570a035a30bafcf01d263</td>\n",
       "      <td>52.00</td>\n",
       "      <td>9.91</td>\n",
       "      <td>1236cc216e0d5232fc35a2f838f03136</td>\n",
       "      <td>delivered</td>\n",
       "      <td>2018-01-18 12:53:15</td>\n",
       "      <td>2018-01-26 18:14:18</td>\n",
       "      <td>2018-02-05 00:00:00</td>\n",
       "    </tr>\n",
       "    <tr>\n",
       "      <th>98705</th>\n",
       "      <td>dfdf713f169a1ba9bbfd41f67179e07a</td>\n",
       "      <td>1</td>\n",
       "      <td>a040c0e88511c8c58db44fd6831cdb45</td>\n",
       "      <td>113e3a788b935f48aad63e1c41dac1bd</td>\n",
       "      <td>12.52</td>\n",
       "      <td>12.79</td>\n",
       "      <td>2946b54f698c047983290dd6af2e1b4e</td>\n",
       "      <td>delivered</td>\n",
       "      <td>2018-04-02 21:36:47</td>\n",
       "      <td>2018-04-07 12:51:54</td>\n",
       "      <td>2018-04-20 00:00:00</td>\n",
       "    </tr>\n",
       "  </tbody>\n",
       "</table>\n",
       "</div>"
      ],
      "text/plain": [
       "                                order_id  order_item_id  \\\n",
       "83987   becf90dbbea6e1a229814dab50912be4              1   \n",
       "32918   4a987097277f21bd90f8d6e50af76593              1   \n",
       "103957  ec1d3a645b2a221446df31f1dcbda3e2              1   \n",
       "44427   64f30c3979fdd4ceb17f8c398d2806f9              2   \n",
       "98705   dfdf713f169a1ba9bbfd41f67179e07a              1   \n",
       "\n",
       "                              product_id                         seller_id  \\\n",
       "83987   5d790355cbeded0cd60e25cbc4c527a2  229c3efbfb0ea2058de4ccdfbc3d784a   \n",
       "32918   c6f91a747904e6f2a5164c862c3b6633  f214d28e8d8e3ef068748498ccc2f813   \n",
       "103957  28a652ff04e43c1bc57937a9f8770f9b  3d871de0142ce09b7081e2b9d1733cb1   \n",
       "44427   0aa889132d2e6b79778488c79d025d99  e62b2d6ac10570a035a30bafcf01d263   \n",
       "98705   a040c0e88511c8c58db44fd6831cdb45  113e3a788b935f48aad63e1c41dac1bd   \n",
       "\n",
       "         price  freight_value                       customer_id order_status  \\\n",
       "83987    97.00           8.93  1b9b8bd7c25bb78a4a5fb5c9101dc6e4    delivered   \n",
       "32918    24.99          22.11  b29693f7db88126b2b3dc47b54ab7d7f    delivered   \n",
       "103957  139.00          27.52  c0b14a9776882d6ae80ac4db31ef2172    delivered   \n",
       "44427    52.00           9.91  1236cc216e0d5232fc35a2f838f03136    delivered   \n",
       "98705    12.52          12.79  2946b54f698c047983290dd6af2e1b4e    delivered   \n",
       "\n",
       "       order_purchase_timestamp order_delivered_customer_date  \\\n",
       "83987       2017-05-08 18:53:05           2017-05-13 11:22:40   \n",
       "32918       2018-08-12 23:25:26           2018-08-21 16:42:58   \n",
       "103957      2018-01-11 19:50:54           2018-01-21 12:24:44   \n",
       "44427       2018-01-18 12:53:15           2018-01-26 18:14:18   \n",
       "98705       2018-04-02 21:36:47           2018-04-07 12:51:54   \n",
       "\n",
       "       order_estimated_delivery_date  \n",
       "83987            2017-05-31 00:00:00  \n",
       "32918            2018-09-10 00:00:00  \n",
       "103957           2018-02-06 00:00:00  \n",
       "44427            2018-02-05 00:00:00  \n",
       "98705            2018-04-20 00:00:00  "
      ]
     },
     "execution_count": 29,
     "metadata": {},
     "output_type": "execute_result"
    }
   ],
   "source": [
    "order_items = pd.merge(order_items, orders,\n",
    "                       how=\"left\",\n",
    "                       on=\"order_id\")\n",
    "\n",
    "order_items_to_delete = [\"shipping_limit_date\",\n",
    "                     \"order_approved_at\",\n",
    "                     \"order_delivered_carrier_date\"]\n",
    "order_items.drop(order_items_to_delete,\n",
    "                 axis=1,\n",
    "                 inplace=True)\n",
    "order_items.sample(5)"
   ]
  },
  {
   "cell_type": "markdown",
   "metadata": {},
   "source": [
    "#### Filtre des commandes non livrées"
   ]
  },
  {
   "cell_type": "code",
   "execution_count": 30,
   "metadata": {},
   "outputs": [
    {
     "data": {
      "text/plain": [
       "order_status\n",
       "delivered      110197\n",
       "shipped          1185\n",
       "canceled          542\n",
       "invoiced          359\n",
       "processing        357\n",
       "unavailable         7\n",
       "approved            3\n",
       "Name: count, dtype: int64"
      ]
     },
     "execution_count": 30,
     "metadata": {},
     "output_type": "execute_result"
    }
   ],
   "source": [
    "order_status_counts = order_items[\"order_status\"].value_counts()\n",
    "order_status_counts"
   ]
  },
  {
   "cell_type": "markdown",
   "metadata": {},
   "source": [
    "**delivered**: livré  \n",
    "**shipped**: expédié  \n",
    "**canceled**: annulé  \n",
    "**invoiced**: facturé  \n",
    "**processing**: en cours de traitement  \n",
    "**unavailable**: non disponible  \n",
    "**approved**:  approuvé  \n",
    "  \n",
    "On ne s'intéressera qu'aux commandes livrées, on conserve seulement le statut **delivered**.  "
   ]
  },
  {
   "cell_type": "code",
   "execution_count": 31,
   "metadata": {},
   "outputs": [],
   "source": [
    "order_items = order_items[order_items[\"order_status\"] == \"delivered\"]"
   ]
  },
  {
   "cell_type": "code",
   "execution_count": 32,
   "metadata": {},
   "outputs": [
    {
     "name": "stdout",
     "output_type": "stream",
     "text": [
      "<class 'pandas.core.frame.DataFrame'>\n",
      "Index: 110197 entries, 0 to 112649\n",
      "Data columns (total 11 columns):\n",
      " #   Column                         Non-Null Count   Dtype  \n",
      "---  ------                         --------------   -----  \n",
      " 0   order_id                       110197 non-null  object \n",
      " 1   order_item_id                  110197 non-null  int64  \n",
      " 2   product_id                     110197 non-null  object \n",
      " 3   seller_id                      110197 non-null  object \n",
      " 4   price                          110197 non-null  float64\n",
      " 5   freight_value                  110197 non-null  float64\n",
      " 6   customer_id                    110197 non-null  object \n",
      " 7   order_status                   110197 non-null  object \n",
      " 8   order_purchase_timestamp       110197 non-null  object \n",
      " 9   order_delivered_customer_date  110189 non-null  object \n",
      " 10  order_estimated_delivery_date  110197 non-null  object \n",
      "dtypes: float64(2), int64(1), object(8)\n",
      "memory usage: 10.1+ MB\n"
     ]
    }
   ],
   "source": [
    "order_items.info()"
   ]
  },
  {
   "cell_type": "markdown",
   "metadata": {},
   "source": [
    "#### Répartition des commandes sur la durée du dataset"
   ]
  },
  {
   "cell_type": "markdown",
   "metadata": {},
   "source": [
    "Conversion des dates (object) en dates (datetime64[ns])"
   ]
  },
  {
   "cell_type": "code",
   "execution_count": 33,
   "metadata": {},
   "outputs": [
    {
     "name": "stdout",
     "output_type": "stream",
     "text": [
      "<class 'pandas.core.frame.DataFrame'>\n",
      "Index: 110197 entries, 0 to 112649\n",
      "Data columns (total 11 columns):\n",
      " #   Column                         Non-Null Count   Dtype         \n",
      "---  ------                         --------------   -----         \n",
      " 0   order_id                       110197 non-null  object        \n",
      " 1   order_item_id                  110197 non-null  int64         \n",
      " 2   product_id                     110197 non-null  object        \n",
      " 3   seller_id                      110197 non-null  object        \n",
      " 4   price                          110197 non-null  float64       \n",
      " 5   freight_value                  110197 non-null  float64       \n",
      " 6   customer_id                    110197 non-null  object        \n",
      " 7   order_status                   110197 non-null  object        \n",
      " 8   order_purchase_timestamp       110197 non-null  datetime64[ns]\n",
      " 9   order_delivered_customer_date  110189 non-null  datetime64[ns]\n",
      " 10  order_estimated_delivery_date  110197 non-null  datetime64[ns]\n",
      "dtypes: datetime64[ns](3), float64(2), int64(1), object(5)\n",
      "memory usage: 10.1+ MB\n"
     ]
    }
   ],
   "source": [
    "datetime_cols = [\"order_purchase_timestamp\", \"order_delivered_customer_date\", \"order_estimated_delivery_date\"]\n",
    "for col in datetime_cols:\n",
    "    order_items[col] = order_items[col].astype('datetime64[ns]')\n",
    "order_items.info()"
   ]
  },
  {
   "cell_type": "markdown",
   "metadata": {},
   "source": [
    "Première et dernière commandes du dataset"
   ]
  },
  {
   "cell_type": "code",
   "execution_count": 34,
   "metadata": {},
   "outputs": [
    {
     "name": "stdout",
     "output_type": "stream",
     "text": [
      "Date et heure d'achat minimale: 2016-09-15 12:16:38\n",
      "Date et heure d'achat maximale: 2018-08-29 15:00:37\n"
     ]
    }
   ],
   "source": [
    "min_timestamp = order_items['order_purchase_timestamp'].min()\n",
    "max_timestamp = order_items['order_purchase_timestamp'].max()\n",
    "\n",
    "print(\"Date et heure d'achat minimale:\", min_timestamp)\n",
    "print(\"Date et heure d'achat maximale:\", max_timestamp)"
   ]
  },
  {
   "cell_type": "code",
   "execution_count": 35,
   "metadata": {},
   "outputs": [
    {
     "data": {
      "image/png": "[encoded data removed]",
      "text/plain": [
       "<Figure size 2000x800 with 1 Axes>"
      ]
     },
     "metadata": {},
     "output_type": "display_data"
    }
   ],
   "source": [
    "orders_per_days = order_items.groupby(order_items[\"order_purchase_timestamp\"]\\\n",
    "                                      .dt.date)\\\n",
    "                                    .count()[\"order_id\"]\n",
    "fig = plt.figure(figsize=(20, 8))\n",
    "ax = orders_per_days.plot(color=\"#00d994\")\n",
    "ax.set_ylabel(\"count\")\n",
    "plt.title(f\"Nombre de commandes quotidiennes\\n\")\n",
    "plt.show()"
   ]
  },
  {
   "cell_type": "markdown",
   "metadata": {},
   "source": [
    "#### Nombre de commandes par mois, jour, heure."
   ]
  },
  {
   "cell_type": "code",
   "execution_count": 36,
   "metadata": {},
   "outputs": [
    {
     "data": {
      "image/png": "[encoded data removed]",
      "text/plain": [
       "<Figure size 1200x800 with 1 Axes>"
      ]
     },
     "metadata": {},
     "output_type": "display_data"
    }
   ],
   "source": [
    "order_items.groupby(order_items['order_purchase_timestamp'].dt.month)\\\n",
    "    .agg({\"order_id\": \"nunique\"})\\\n",
    "    .plot(figsize=(12,8), kind=\"bar\",\n",
    "          title=\"Nombre de commandes par mois\",\n",
    "          ylabel=\"Nombre de commandes\",\n",
    "          xlabel=\"Mois\",\n",
    "          legend=False)\n",
    "plt.xticks(np.arange(0,12), ['Jan','Fev','Mar','Avr','Mai','Juin',\n",
    "                             'Juil','Aou','Sept','Oct','Nov','Dec'], \n",
    "           rotation='horizontal')\n",
    "plt.show()"
   ]
  },
  {
   "cell_type": "markdown",
   "metadata": {},
   "source": [
    "On ne retrouve pas le nombre de commandes élevés liées aux fêtes de fin d'année dans la répartition mensuelle.  \n",
    "Les mois d'août et mai sont les mois avec le plus de commmandes."
   ]
  },
  {
   "cell_type": "code",
   "execution_count": 37,
   "metadata": {},
   "outputs": [
    {
     "data": {
      "image/png": "[encoded data removed]",
      "text/plain": [
       "<Figure size 1200x800 with 1 Axes>"
      ]
     },
     "metadata": {},
     "output_type": "display_data"
    }
   ],
   "source": [
    "order_items.groupby(order_items['order_purchase_timestamp'].dt.dayofweek)\\\n",
    "    .agg({\"order_id\": \"nunique\"})\\\n",
    "    .plot(figsize=(12,8), kind=\"bar\",\n",
    "          title=\"Nombre de commandes par jour de la semaine\",\n",
    "          ylabel=\"Nombre de commandes\",\n",
    "          xlabel=\"Jour de la semaine\",\n",
    "          legend=False)\n",
    "plt.xticks(np.arange(0,7), ['Lun','Mar','Mer','Jeu','Ven','Sam','Dim'], rotation='horizontal')\n",
    "plt.show()"
   ]
  },
  {
   "cell_type": "markdown",
   "metadata": {},
   "source": [
    "Le nombre de commandes est plus élevé en début de semaine, les lundi et mardi."
   ]
  },
  {
   "cell_type": "code",
   "execution_count": 38,
   "metadata": {},
   "outputs": [
    {
     "data": {
      "image/png": "[encoded data removed]",
      "text/plain": [
       "<Figure size 1200x800 with 1 Axes>"
      ]
     },
     "metadata": {},
     "output_type": "display_data"
    }
   ],
   "source": [
    "order_items.groupby(order_items['order_purchase_timestamp'].dt.hour)\\\n",
    "    .agg({\"order_id\": \"nunique\"})\\\n",
    "    .plot(figsize=(12,8), kind=\"bar\",\n",
    "          title=\"Nombre de commandes par heure de la journée\",\n",
    "          ylabel=\"Nombre de commandes\",\n",
    "          xlabel=\"Heure\",\n",
    "          legend=False)\n",
    "plt.show()"
   ]
  },
  {
   "cell_type": "markdown",
   "metadata": {},
   "source": [
    "Aux heures du jour, le nombre de commandes est assez équitablement réparti."
   ]
  },
  {
   "cell_type": "code",
   "execution_count": 39,
   "metadata": {},
   "outputs": [
    {
     "data": {
      "image/png": "[encoded data removed]",
      "text/plain": [
       "<Figure size 1200x800 with 1 Axes>"
      ]
     },
     "metadata": {},
     "output_type": "display_data"
    }
   ],
   "source": [
    "order_items[\"sale_month\"] = order_items['order_purchase_timestamp'].dt.month\n",
    "fig = plt.figure(figsize=(12,8))\n",
    "sns.boxplot(data=order_items[order_items.price < 500], x=\"sale_month\", y=\"price\")\n",
    "plt.title(\"Distribution du C.A. sur les mois de l'année\", fontsize=18, color=\"b\")\n",
    "plt.show()"
   ]
  },
  {
   "cell_type": "markdown",
   "metadata": {},
   "source": [
    "#### Création des colonnes duration_delivery et difference_real_estimated_delivery"
   ]
  },
  {
   "cell_type": "markdown",
   "metadata": {},
   "source": [
    "Feature engineering: on crée la colonne **duration_delivery** qui calcule le nombre de jours entre la date d'achat et la date effective de livraison."
   ]
  },
  {
   "cell_type": "code",
   "execution_count": 40,
   "metadata": {},
   "outputs": [
    {
     "data": {
      "text/html": [
       "<div>\n",
       "<style scoped>\n",
       "    .dataframe tbody tr th:only-of-type {\n",
       "        vertical-align: middle;\n",
       "    }\n",
       "\n",
       "    .dataframe tbody tr th {\n",
       "        vertical-align: top;\n",
       "    }\n",
       "\n",
       "    .dataframe thead th {\n",
       "        text-align: right;\n",
       "    }\n",
       "</style>\n",
       "<table border=\"1\" class=\"dataframe\">\n",
       "  <thead>\n",
       "    <tr style=\"text-align: right;\">\n",
       "      <th></th>\n",
       "      <th>order_id</th>\n",
       "      <th>order_item_id</th>\n",
       "      <th>product_id</th>\n",
       "      <th>seller_id</th>\n",
       "      <th>price</th>\n",
       "      <th>freight_value</th>\n",
       "      <th>customer_id</th>\n",
       "      <th>order_status</th>\n",
       "      <th>order_purchase_timestamp</th>\n",
       "      <th>order_delivered_customer_date</th>\n",
       "      <th>order_estimated_delivery_date</th>\n",
       "      <th>sale_month</th>\n",
       "      <th>duration_delivery</th>\n",
       "    </tr>\n",
       "  </thead>\n",
       "  <tbody>\n",
       "    <tr>\n",
       "      <th>111268</th>\n",
       "      <td>fcc6295008b84fe0ae2717cf4fb011ca</td>\n",
       "      <td>2</td>\n",
       "      <td>f3d786d97bcacbff8312cf48b52a6062</td>\n",
       "      <td>33cbda8716511e27e556dff9d8418bf2</td>\n",
       "      <td>45.90</td>\n",
       "      <td>17.19</td>\n",
       "      <td>bc9a74ee219462270870472b5ee3429e</td>\n",
       "      <td>delivered</td>\n",
       "      <td>2017-04-18 18:31:48</td>\n",
       "      <td>2017-05-04 15:43:45</td>\n",
       "      <td>2017-05-12</td>\n",
       "      <td>4</td>\n",
       "      <td>16.0</td>\n",
       "    </tr>\n",
       "    <tr>\n",
       "      <th>86552</th>\n",
       "      <td>c496bc3178d477c1390f52393d78d723</td>\n",
       "      <td>1</td>\n",
       "      <td>36876fa11e21f66fcbe91abde34210c5</td>\n",
       "      <td>af3ef48d0e13835e529c29ac573c63e5</td>\n",
       "      <td>69.20</td>\n",
       "      <td>12.92</td>\n",
       "      <td>fbbca623fd2ed0a30fd87061b46980d5</td>\n",
       "      <td>delivered</td>\n",
       "      <td>2018-05-16 08:11:59</td>\n",
       "      <td>2018-05-22 13:03:03</td>\n",
       "      <td>2018-05-30</td>\n",
       "      <td>5</td>\n",
       "      <td>6.0</td>\n",
       "    </tr>\n",
       "    <tr>\n",
       "      <th>41717</th>\n",
       "      <td>5f19271c1eb0a8eb0a1efed995df752b</td>\n",
       "      <td>3</td>\n",
       "      <td>1bfb290d7273a442c874dbe74b4abae6</td>\n",
       "      <td>7c67e1448b00f6e969d365cea6b010ab</td>\n",
       "      <td>69.99</td>\n",
       "      <td>23.20</td>\n",
       "      <td>0551b1b0b246b2433f94f989661aea95</td>\n",
       "      <td>delivered</td>\n",
       "      <td>2018-06-26 16:28:03</td>\n",
       "      <td>2018-07-06 12:34:40</td>\n",
       "      <td>2018-07-24</td>\n",
       "      <td>6</td>\n",
       "      <td>10.0</td>\n",
       "    </tr>\n",
       "    <tr>\n",
       "      <th>100886</th>\n",
       "      <td>e4bf4cf0817d499ec9e8807b121129f7</td>\n",
       "      <td>1</td>\n",
       "      <td>edfbb2566914ddd223d3bd6fa1e9693c</td>\n",
       "      <td>8444e55c1f13cd5c179851e5ca5ebd00</td>\n",
       "      <td>339.20</td>\n",
       "      <td>15.39</td>\n",
       "      <td>aa154dbe6fa58ff5b8dc04278934f841</td>\n",
       "      <td>delivered</td>\n",
       "      <td>2017-07-17 15:13:35</td>\n",
       "      <td>2017-07-29 13:03:19</td>\n",
       "      <td>2017-08-22</td>\n",
       "      <td>7</td>\n",
       "      <td>12.0</td>\n",
       "    </tr>\n",
       "    <tr>\n",
       "      <th>9022</th>\n",
       "      <td>149e55a5e2cbc1bcdaa30bae10dd2c5a</td>\n",
       "      <td>1</td>\n",
       "      <td>98e70aafc39bd58a8a9c4f27593831db</td>\n",
       "      <td>7d76b645482be4a332374e8223836592</td>\n",
       "      <td>14.99</td>\n",
       "      <td>12.79</td>\n",
       "      <td>d712ad728a3beefc416b69243c3a1ed8</td>\n",
       "      <td>delivered</td>\n",
       "      <td>2018-05-07 13:19:03</td>\n",
       "      <td>2018-05-14 20:28:48</td>\n",
       "      <td>2018-05-23</td>\n",
       "      <td>5</td>\n",
       "      <td>7.0</td>\n",
       "    </tr>\n",
       "  </tbody>\n",
       "</table>\n",
       "</div>"
      ],
      "text/plain": [
       "                                order_id  order_item_id  \\\n",
       "111268  fcc6295008b84fe0ae2717cf4fb011ca              2   \n",
       "86552   c496bc3178d477c1390f52393d78d723              1   \n",
       "41717   5f19271c1eb0a8eb0a1efed995df752b              3   \n",
       "100886  e4bf4cf0817d499ec9e8807b121129f7              1   \n",
       "9022    149e55a5e2cbc1bcdaa30bae10dd2c5a              1   \n",
       "\n",
       "                              product_id                         seller_id  \\\n",
       "111268  f3d786d97bcacbff8312cf48b52a6062  33cbda8716511e27e556dff9d8418bf2   \n",
       "86552   36876fa11e21f66fcbe91abde34210c5  af3ef48d0e13835e529c29ac573c63e5   \n",
       "41717   1bfb290d7273a442c874dbe74b4abae6  7c67e1448b00f6e969d365cea6b010ab   \n",
       "100886  edfbb2566914ddd223d3bd6fa1e9693c  8444e55c1f13cd5c179851e5ca5ebd00   \n",
       "9022    98e70aafc39bd58a8a9c4f27593831db  7d76b645482be4a332374e8223836592   \n",
       "\n",
       "         price  freight_value                       customer_id order_status  \\\n",
       "111268   45.90          17.19  bc9a74ee219462270870472b5ee3429e    delivered   \n",
       "86552    69.20          12.92  fbbca623fd2ed0a30fd87061b46980d5    delivered   \n",
       "41717    69.99          23.20  0551b1b0b246b2433f94f989661aea95    delivered   \n",
       "100886  339.20          15.39  aa154dbe6fa58ff5b8dc04278934f841    delivered   \n",
       "9022     14.99          12.79  d712ad728a3beefc416b69243c3a1ed8    delivered   \n",
       "\n",
       "       order_purchase_timestamp order_delivered_customer_date  \\\n",
       "111268      2017-04-18 18:31:48           2017-05-04 15:43:45   \n",
       "86552       2018-05-16 08:11:59           2018-05-22 13:03:03   \n",
       "41717       2018-06-26 16:28:03           2018-07-06 12:34:40   \n",
       "100886      2017-07-17 15:13:35           2017-07-29 13:03:19   \n",
       "9022        2018-05-07 13:19:03           2018-05-14 20:28:48   \n",
       "\n",
       "       order_estimated_delivery_date  sale_month  duration_delivery  \n",
       "111268                    2017-05-12           4               16.0  \n",
       "86552                     2018-05-30           5                6.0  \n",
       "41717                     2018-07-24           6               10.0  \n",
       "100886                    2017-08-22           7               12.0  \n",
       "9022                      2018-05-23           5                7.0  "
      ]
     },
     "execution_count": 40,
     "metadata": {},
     "output_type": "execute_result"
    }
   ],
   "source": [
    "order_items[\"duration_delivery\"] = (order_items.order_delivered_customer_date\n",
    "                               - order_items.order_purchase_timestamp)\\\n",
    "                              .dt.round('1d').dt.days\n",
    "order_items.sample(5)"
   ]
  },
  {
   "cell_type": "markdown",
   "metadata": {},
   "source": [
    "Feature engineering: on crée la colonne **difference_real_estimated_delivery** qui calcule la différence entre le délai de livraison estimé et le délai de livraison réel."
   ]
  },
  {
   "cell_type": "code",
   "execution_count": 41,
   "metadata": {},
   "outputs": [
    {
     "data": {
      "text/html": [
       "<div>\n",
       "<style scoped>\n",
       "    .dataframe tbody tr th:only-of-type {\n",
       "        vertical-align: middle;\n",
       "    }\n",
       "\n",
       "    .dataframe tbody tr th {\n",
       "        vertical-align: top;\n",
       "    }\n",
       "\n",
       "    .dataframe thead th {\n",
       "        text-align: right;\n",
       "    }\n",
       "</style>\n",
       "<table border=\"1\" class=\"dataframe\">\n",
       "  <thead>\n",
       "    <tr style=\"text-align: right;\">\n",
       "      <th></th>\n",
       "      <th>order_id</th>\n",
       "      <th>order_item_id</th>\n",
       "      <th>product_id</th>\n",
       "      <th>seller_id</th>\n",
       "      <th>price</th>\n",
       "      <th>freight_value</th>\n",
       "      <th>customer_id</th>\n",
       "      <th>order_status</th>\n",
       "      <th>order_purchase_timestamp</th>\n",
       "      <th>order_delivered_customer_date</th>\n",
       "      <th>order_estimated_delivery_date</th>\n",
       "      <th>sale_month</th>\n",
       "      <th>duration_delivery</th>\n",
       "      <th>difference_real_estimated_delivery</th>\n",
       "    </tr>\n",
       "  </thead>\n",
       "  <tbody>\n",
       "    <tr>\n",
       "      <th>60783</th>\n",
       "      <td>8a8b1b373a33b3d5721b9e7c02a068f9</td>\n",
       "      <td>1</td>\n",
       "      <td>acc78c9d340dbe682491c9d31ea7e187</td>\n",
       "      <td>7ea5bfa6c340f58f8e71fc1f0412b0d6</td>\n",
       "      <td>149.99</td>\n",
       "      <td>9.61</td>\n",
       "      <td>c7675af0f038a858a108d39665c1e532</td>\n",
       "      <td>delivered</td>\n",
       "      <td>2018-02-19 17:24:19</td>\n",
       "      <td>2018-02-26 22:56:57</td>\n",
       "      <td>2018-03-05</td>\n",
       "      <td>2</td>\n",
       "      <td>7.0</td>\n",
       "      <td>-6.0</td>\n",
       "    </tr>\n",
       "    <tr>\n",
       "      <th>42366</th>\n",
       "      <td>607e1a17f3e649f24abe13bb0dd25abe</td>\n",
       "      <td>2</td>\n",
       "      <td>37eab73447adec63c01f2cebf76afd9e</td>\n",
       "      <td>e9779976487b77c6d4ac45f75ec7afe9</td>\n",
       "      <td>21.00</td>\n",
       "      <td>18.23</td>\n",
       "      <td>d2b9844cccc9747ba112cae367d1a551</td>\n",
       "      <td>delivered</td>\n",
       "      <td>2018-05-17 02:28:51</td>\n",
       "      <td>2018-05-22 17:24:33</td>\n",
       "      <td>2018-06-21</td>\n",
       "      <td>5</td>\n",
       "      <td>6.0</td>\n",
       "      <td>-29.0</td>\n",
       "    </tr>\n",
       "    <tr>\n",
       "      <th>84656</th>\n",
       "      <td>c05cb9c2c6907494337ded1d059cbc7d</td>\n",
       "      <td>1</td>\n",
       "      <td>5b6263339240fc2b980849790e450c70</td>\n",
       "      <td>1b4c3a6f53068f0b6944d2d005c9fc89</td>\n",
       "      <td>29.90</td>\n",
       "      <td>20.72</td>\n",
       "      <td>15e4fb3182251c06c80f9cdc5014df1e</td>\n",
       "      <td>delivered</td>\n",
       "      <td>2017-11-26 12:29:17</td>\n",
       "      <td>2017-12-07 20:21:35</td>\n",
       "      <td>2017-12-22</td>\n",
       "      <td>11</td>\n",
       "      <td>11.0</td>\n",
       "      <td>-14.0</td>\n",
       "    </tr>\n",
       "    <tr>\n",
       "      <th>10239</th>\n",
       "      <td>177a359958777d9b5cebb4257016c35c</td>\n",
       "      <td>1</td>\n",
       "      <td>3dd2a17168ec895c781a9191c1e95ad7</td>\n",
       "      <td>de722cd6dad950a92b7d4f82673f8833</td>\n",
       "      <td>149.90</td>\n",
       "      <td>25.18</td>\n",
       "      <td>6326db5a7fa1bed7b29c5a8c08a3d4c9</td>\n",
       "      <td>delivered</td>\n",
       "      <td>2018-05-30 23:33:44</td>\n",
       "      <td>2018-06-06 21:07:03</td>\n",
       "      <td>2018-07-11</td>\n",
       "      <td>5</td>\n",
       "      <td>7.0</td>\n",
       "      <td>-34.0</td>\n",
       "    </tr>\n",
       "    <tr>\n",
       "      <th>72062</th>\n",
       "      <td>a4635c4b193e740cc720feeb43e075ef</td>\n",
       "      <td>1</td>\n",
       "      <td>0354c6a8cb8961e29b70e564b93861fe</td>\n",
       "      <td>a3a38f4affed601eb87a97788c949667</td>\n",
       "      <td>34.99</td>\n",
       "      <td>15.10</td>\n",
       "      <td>1d42f8005da1b87cce3b873a4126402c</td>\n",
       "      <td>delivered</td>\n",
       "      <td>2017-08-30 11:08:13</td>\n",
       "      <td>2017-09-11 20:15:15</td>\n",
       "      <td>2017-09-22</td>\n",
       "      <td>8</td>\n",
       "      <td>12.0</td>\n",
       "      <td>-10.0</td>\n",
       "    </tr>\n",
       "  </tbody>\n",
       "</table>\n",
       "</div>"
      ],
      "text/plain": [
       "                               order_id  order_item_id  \\\n",
       "60783  8a8b1b373a33b3d5721b9e7c02a068f9              1   \n",
       "42366  607e1a17f3e649f24abe13bb0dd25abe              2   \n",
       "84656  c05cb9c2c6907494337ded1d059cbc7d              1   \n",
       "10239  177a359958777d9b5cebb4257016c35c              1   \n",
       "72062  a4635c4b193e740cc720feeb43e075ef              1   \n",
       "\n",
       "                             product_id                         seller_id  \\\n",
       "60783  acc78c9d340dbe682491c9d31ea7e187  7ea5bfa6c340f58f8e71fc1f0412b0d6   \n",
       "42366  37eab73447adec63c01f2cebf76afd9e  e9779976487b77c6d4ac45f75ec7afe9   \n",
       "84656  5b6263339240fc2b980849790e450c70  1b4c3a6f53068f0b6944d2d005c9fc89   \n",
       "10239  3dd2a17168ec895c781a9191c1e95ad7  de722cd6dad950a92b7d4f82673f8833   \n",
       "72062  0354c6a8cb8961e29b70e564b93861fe  a3a38f4affed601eb87a97788c949667   \n",
       "\n",
       "        price  freight_value                       customer_id order_status  \\\n",
       "60783  149.99           9.61  c7675af0f038a858a108d39665c1e532    delivered   \n",
       "42366   21.00          18.23  d2b9844cccc9747ba112cae367d1a551    delivered   \n",
       "84656   29.90          20.72  15e4fb3182251c06c80f9cdc5014df1e    delivered   \n",
       "10239  149.90          25.18  6326db5a7fa1bed7b29c5a8c08a3d4c9    delivered   \n",
       "72062   34.99          15.10  1d42f8005da1b87cce3b873a4126402c    delivered   \n",
       "\n",
       "      order_purchase_timestamp order_delivered_customer_date  \\\n",
       "60783      2018-02-19 17:24:19           2018-02-26 22:56:57   \n",
       "42366      2018-05-17 02:28:51           2018-05-22 17:24:33   \n",
       "84656      2017-11-26 12:29:17           2017-12-07 20:21:35   \n",
       "10239      2018-05-30 23:33:44           2018-06-06 21:07:03   \n",
       "72062      2017-08-30 11:08:13           2017-09-11 20:15:15   \n",
       "\n",
       "      order_estimated_delivery_date  sale_month  duration_delivery  \\\n",
       "60783                    2018-03-05           2                7.0   \n",
       "42366                    2018-06-21           5                6.0   \n",
       "84656                    2017-12-22          11               11.0   \n",
       "10239                    2018-07-11           5                7.0   \n",
       "72062                    2017-09-22           8               12.0   \n",
       "\n",
       "       difference_real_estimated_delivery  \n",
       "60783                                -6.0  \n",
       "42366                               -29.0  \n",
       "84656                               -14.0  \n",
       "10239                               -34.0  \n",
       "72062                               -10.0  "
      ]
     },
     "execution_count": 41,
     "metadata": {},
     "output_type": "execute_result"
    }
   ],
   "source": [
    "order_items[\"difference_real_estimated_delivery\"] = (order_items.order_delivered_customer_date\n",
    "                               - order_items.order_estimated_delivery_date)\\\n",
    "                              .dt.round('1d').dt.days\n",
    "order_items.sample(5)"
   ]
  },
  {
   "cell_type": "code",
   "execution_count": 42,
   "metadata": {},
   "outputs": [],
   "source": [
    "order_items.drop('order_estimated_delivery_date', axis=1, inplace=True)"
   ]
  },
  {
   "cell_type": "markdown",
   "metadata": {},
   "source": [
    "### Satisfaction des clients : ajout du dataset order_reviews"
   ]
  },
  {
   "cell_type": "markdown",
   "metadata": {},
   "source": [
    "#### Création d'une colonne reviews_number: nombre de commntaires par commande"
   ]
  },
  {
   "cell_type": "markdown",
   "metadata": {},
   "source": [
    "Ajout d'une colonne **reviews_number**, nombre de commentaires textuels pour une même commande.  \n",
    "On transforme review_score par la moyenne de ces review_score pour une même commande."
   ]
  },
  {
   "cell_type": "code",
   "execution_count": 43,
   "metadata": {},
   "outputs": [
    {
     "data": {
      "text/html": [
       "<div>\n",
       "<style scoped>\n",
       "    .dataframe tbody tr th:only-of-type {\n",
       "        vertical-align: middle;\n",
       "    }\n",
       "\n",
       "    .dataframe tbody tr th {\n",
       "        vertical-align: top;\n",
       "    }\n",
       "\n",
       "    .dataframe thead th {\n",
       "        text-align: right;\n",
       "    }\n",
       "</style>\n",
       "<table border=\"1\" class=\"dataframe\">\n",
       "  <thead>\n",
       "    <tr style=\"text-align: right;\">\n",
       "      <th></th>\n",
       "      <th>order_id</th>\n",
       "      <th>review_score</th>\n",
       "      <th>reviews_number</th>\n",
       "    </tr>\n",
       "  </thead>\n",
       "  <tbody>\n",
       "    <tr>\n",
       "      <th>43683</th>\n",
       "      <td>715b8576b74d53796bcbb107a201eb55</td>\n",
       "      <td>5.0</td>\n",
       "      <td>2.0</td>\n",
       "    </tr>\n",
       "    <tr>\n",
       "      <th>17484</th>\n",
       "      <td>2daee070f2042c8b7a8e9fdde778a31a</td>\n",
       "      <td>5.0</td>\n",
       "      <td>2.0</td>\n",
       "    </tr>\n",
       "    <tr>\n",
       "      <th>77071</th>\n",
       "      <td>c7e1e46af92704b1c2e1924de96e7479</td>\n",
       "      <td>2.5</td>\n",
       "      <td>2.0</td>\n",
       "    </tr>\n",
       "    <tr>\n",
       "      <th>8171</th>\n",
       "      <td>1536003b9af6a526e0d02b8cd13fd2af</td>\n",
       "      <td>5.0</td>\n",
       "      <td>2.0</td>\n",
       "    </tr>\n",
       "    <tr>\n",
       "      <th>15286</th>\n",
       "      <td>27dc874d0fc1a19c74ec77ca706be968</td>\n",
       "      <td>5.0</td>\n",
       "      <td>2.0</td>\n",
       "    </tr>\n",
       "  </tbody>\n",
       "</table>\n",
       "</div>"
      ],
      "text/plain": [
       "                               order_id  review_score  reviews_number\n",
       "43683  715b8576b74d53796bcbb107a201eb55           5.0             2.0\n",
       "17484  2daee070f2042c8b7a8e9fdde778a31a           5.0             2.0\n",
       "77071  c7e1e46af92704b1c2e1924de96e7479           2.5             2.0\n",
       "8171   1536003b9af6a526e0d02b8cd13fd2af           5.0             2.0\n",
       "15286  27dc874d0fc1a19c74ec77ca706be968           5.0             2.0"
      ]
     },
     "execution_count": 43,
     "metadata": {},
     "output_type": "execute_result"
    }
   ],
   "source": [
    "for col in ['review_comment_title', 'review_comment_message']:\n",
    "    order_reviews[col] = order_reviews[col].fillna('')\n",
    "\n",
    "order_reviews['reviews_number'] = (\n",
    "    (order_reviews['review_comment_title'] != '') &\n",
    "    (order_reviews['review_comment_message'] != '')\n",
    ").astype(float)\n",
    "\n",
    "goup_order_reviews = order_reviews.groupby('order_id').agg({\n",
    "    'review_score': 'mean',\n",
    "    'reviews_number': 'sum',\n",
    "}).reset_index()\n",
    "\n",
    "goup_order_reviews.sort_values(by='reviews_number', ascending=False).head()\n"
   ]
  },
  {
   "cell_type": "code",
   "execution_count": 44,
   "metadata": {},
   "outputs": [
    {
     "data": {
      "text/html": [
       "<div>\n",
       "<style scoped>\n",
       "    .dataframe tbody tr th:only-of-type {\n",
       "        vertical-align: middle;\n",
       "    }\n",
       "\n",
       "    .dataframe tbody tr th {\n",
       "        vertical-align: top;\n",
       "    }\n",
       "\n",
       "    .dataframe thead th {\n",
       "        text-align: right;\n",
       "    }\n",
       "</style>\n",
       "<table border=\"1\" class=\"dataframe\">\n",
       "  <thead>\n",
       "    <tr style=\"text-align: right;\">\n",
       "      <th></th>\n",
       "      <th>order_id</th>\n",
       "      <th>order_item_id</th>\n",
       "      <th>product_id</th>\n",
       "      <th>seller_id</th>\n",
       "      <th>price</th>\n",
       "      <th>freight_value</th>\n",
       "      <th>customer_id</th>\n",
       "      <th>order_status</th>\n",
       "      <th>order_purchase_timestamp</th>\n",
       "      <th>order_delivered_customer_date</th>\n",
       "      <th>sale_month</th>\n",
       "      <th>duration_delivery</th>\n",
       "      <th>difference_real_estimated_delivery</th>\n",
       "      <th>review_score</th>\n",
       "      <th>reviews_number</th>\n",
       "    </tr>\n",
       "  </thead>\n",
       "  <tbody>\n",
       "    <tr>\n",
       "      <th>7178</th>\n",
       "      <td>10980615138835de121262cf38488689</td>\n",
       "      <td>1</td>\n",
       "      <td>7d33844ffd50c5fb265a1e0ba03d9470</td>\n",
       "      <td>7299e27ed73d2ad986de7f7c77d919fa</td>\n",
       "      <td>69.99</td>\n",
       "      <td>12.62</td>\n",
       "      <td>8b40ebca90678b49830f04a84116370e</td>\n",
       "      <td>delivered</td>\n",
       "      <td>2018-02-02 10:52:24</td>\n",
       "      <td>2018-02-16 20:12:34</td>\n",
       "      <td>2</td>\n",
       "      <td>14.0</td>\n",
       "      <td>-12.0</td>\n",
       "      <td>5.0</td>\n",
       "      <td>0.0</td>\n",
       "    </tr>\n",
       "    <tr>\n",
       "      <th>89952</th>\n",
       "      <td>d09937858506b4fd15ea217ad6c16a95</td>\n",
       "      <td>1</td>\n",
       "      <td>389d119b48cf3043d311335e499d9c6b</td>\n",
       "      <td>1f50f920176fa81dab994f9023523100</td>\n",
       "      <td>49.00</td>\n",
       "      <td>17.67</td>\n",
       "      <td>53a0f4bc02cb636ef2f8a0b381e5f19e</td>\n",
       "      <td>delivered</td>\n",
       "      <td>2017-11-25 22:14:45</td>\n",
       "      <td>2018-01-02 13:48:47</td>\n",
       "      <td>11</td>\n",
       "      <td>38.0</td>\n",
       "      <td>16.0</td>\n",
       "      <td>1.0</td>\n",
       "      <td>0.0</td>\n",
       "    </tr>\n",
       "    <tr>\n",
       "      <th>32299</th>\n",
       "      <td>4ae2046be802b9779c96bbe988ff709c</td>\n",
       "      <td>1</td>\n",
       "      <td>dc523b958f892102fd63bb7a60fea902</td>\n",
       "      <td>c003204e1ab016dfa150abc119207b24</td>\n",
       "      <td>249.90</td>\n",
       "      <td>16.65</td>\n",
       "      <td>a484142c4117eb9e1c7d070f9536f428</td>\n",
       "      <td>delivered</td>\n",
       "      <td>2018-03-18 10:51:41</td>\n",
       "      <td>2018-03-20 20:54:37</td>\n",
       "      <td>3</td>\n",
       "      <td>2.0</td>\n",
       "      <td>-8.0</td>\n",
       "      <td>5.0</td>\n",
       "      <td>0.0</td>\n",
       "    </tr>\n",
       "    <tr>\n",
       "      <th>5113</th>\n",
       "      <td>0bd5590ed46f78fceed5ab73b86b8dd4</td>\n",
       "      <td>1</td>\n",
       "      <td>f66b9de04ca29b4039377a323e949dc0</td>\n",
       "      <td>119d1aef1b4144adba89163f6cd9f5d4</td>\n",
       "      <td>199.00</td>\n",
       "      <td>35.56</td>\n",
       "      <td>9ba193141c17b861884c09393ed712eb</td>\n",
       "      <td>delivered</td>\n",
       "      <td>2017-08-08 11:53:50</td>\n",
       "      <td>2017-08-10 18:17:31</td>\n",
       "      <td>8</td>\n",
       "      <td>2.0</td>\n",
       "      <td>-10.0</td>\n",
       "      <td>4.0</td>\n",
       "      <td>0.0</td>\n",
       "    </tr>\n",
       "    <tr>\n",
       "      <th>38593</th>\n",
       "      <td>59bc7868dd1001b0e0affabebe64b67c</td>\n",
       "      <td>1</td>\n",
       "      <td>bc23e7ab33428b722eb04acc660423ad</td>\n",
       "      <td>3d871de0142ce09b7081e2b9d1733cb1</td>\n",
       "      <td>169.00</td>\n",
       "      <td>57.85</td>\n",
       "      <td>213c7704baa0006844081034fc1f0659</td>\n",
       "      <td>delivered</td>\n",
       "      <td>2017-12-12 21:01:29</td>\n",
       "      <td>2018-01-21 14:45:08</td>\n",
       "      <td>12</td>\n",
       "      <td>40.0</td>\n",
       "      <td>11.0</td>\n",
       "      <td>2.0</td>\n",
       "      <td>0.0</td>\n",
       "    </tr>\n",
       "  </tbody>\n",
       "</table>\n",
       "</div>"
      ],
      "text/plain": [
       "                               order_id  order_item_id  \\\n",
       "7178   10980615138835de121262cf38488689              1   \n",
       "89952  d09937858506b4fd15ea217ad6c16a95              1   \n",
       "32299  4ae2046be802b9779c96bbe988ff709c              1   \n",
       "5113   0bd5590ed46f78fceed5ab73b86b8dd4              1   \n",
       "38593  59bc7868dd1001b0e0affabebe64b67c              1   \n",
       "\n",
       "                             product_id                         seller_id  \\\n",
       "7178   7d33844ffd50c5fb265a1e0ba03d9470  7299e27ed73d2ad986de7f7c77d919fa   \n",
       "89952  389d119b48cf3043d311335e499d9c6b  1f50f920176fa81dab994f9023523100   \n",
       "32299  dc523b958f892102fd63bb7a60fea902  c003204e1ab016dfa150abc119207b24   \n",
       "5113   f66b9de04ca29b4039377a323e949dc0  119d1aef1b4144adba89163f6cd9f5d4   \n",
       "38593  bc23e7ab33428b722eb04acc660423ad  3d871de0142ce09b7081e2b9d1733cb1   \n",
       "\n",
       "        price  freight_value                       customer_id order_status  \\\n",
       "7178    69.99          12.62  8b40ebca90678b49830f04a84116370e    delivered   \n",
       "89952   49.00          17.67  53a0f4bc02cb636ef2f8a0b381e5f19e    delivered   \n",
       "32299  249.90          16.65  a484142c4117eb9e1c7d070f9536f428    delivered   \n",
       "5113   199.00          35.56  9ba193141c17b861884c09393ed712eb    delivered   \n",
       "38593  169.00          57.85  213c7704baa0006844081034fc1f0659    delivered   \n",
       "\n",
       "      order_purchase_timestamp order_delivered_customer_date  sale_month  \\\n",
       "7178       2018-02-02 10:52:24           2018-02-16 20:12:34           2   \n",
       "89952      2017-11-25 22:14:45           2018-01-02 13:48:47          11   \n",
       "32299      2018-03-18 10:51:41           2018-03-20 20:54:37           3   \n",
       "5113       2017-08-08 11:53:50           2017-08-10 18:17:31           8   \n",
       "38593      2017-12-12 21:01:29           2018-01-21 14:45:08          12   \n",
       "\n",
       "       duration_delivery  difference_real_estimated_delivery  review_score  \\\n",
       "7178                14.0                               -12.0           5.0   \n",
       "89952               38.0                                16.0           1.0   \n",
       "32299                2.0                                -8.0           5.0   \n",
       "5113                 2.0                               -10.0           4.0   \n",
       "38593               40.0                                11.0           2.0   \n",
       "\n",
       "       reviews_number  \n",
       "7178              0.0  \n",
       "89952             0.0  \n",
       "32299             0.0  \n",
       "5113              0.0  \n",
       "38593             0.0  "
      ]
     },
     "execution_count": 44,
     "metadata": {},
     "output_type": "execute_result"
    }
   ],
   "source": [
    "order_items = pd.merge(order_items, goup_order_reviews,\n",
    "                       how=\"left\",\n",
    "                       on=\"order_id\")\n",
    "order_items.sample(5)"
   ]
  },
  {
   "cell_type": "code",
   "execution_count": 45,
   "metadata": {},
   "outputs": [
    {
     "data": {
      "text/plain": [
       "(110197, 15)"
      ]
     },
     "execution_count": 45,
     "metadata": {},
     "output_type": "execute_result"
    }
   ],
   "source": [
    "order_items.shape"
   ]
  },
  {
   "cell_type": "markdown",
   "metadata": {},
   "source": [
    "#### Répartition des scores attribués aux commandes"
   ]
  },
  {
   "cell_type": "code",
   "execution_count": 46,
   "metadata": {},
   "outputs": [
    {
     "data": {
      "image/png": "[encoded data removed]",
      "text/plain": [
       "<Figure size 1200x800 with 1 Axes>"
      ]
     },
     "metadata": {},
     "output_type": "display_data"
    }
   ],
   "source": [
    "fig = plt.figure(figsize=(12, 8))\n",
    "sns.histplot(order_items, x=\"review_score\", \n",
    "             discrete=True,\n",
    "             edgecolor=\"black\",\n",
    "             color=\"#00d994\", alpha=0.7)\n",
    "plt.title(f\"Répartition des scores attribués aux commandes\\n\")\n",
    "plt.show()"
   ]
  },
  {
   "cell_type": "markdown",
   "metadata": {},
   "source": [
    "#### Scatter plots: scores de satisfaction par rapport au temps de livraison réel, et à la différence réel - estimé"
   ]
  },
  {
   "cell_type": "code",
   "execution_count": 47,
   "metadata": {},
   "outputs": [
    {
     "data": {
      "image/png": "[encoded data removed]",
      "text/plain": [
       "<Figure size 1000x600 with 1 Axes>"
      ]
     },
     "metadata": {},
     "output_type": "display_data"
    }
   ],
   "source": [
    "grouped = order_items.groupby(['duration_delivery', 'review_score']).size().reset_index(name='count')\n",
    "\n",
    "# scatterplot avec des cercles de diamètre proportionnel au nombre de points\n",
    "plt.figure(figsize=(10, 6))\n",
    "\n",
    "plt.scatter(\n",
    "    grouped['duration_delivery'], \n",
    "    grouped['review_score'], \n",
    "    s=grouped['count'],\n",
    "    alpha=0.5\n",
    ")\n",
    "\n",
    "plt.title('Score de satisfaction en fonction de la Durée de Livraison')\n",
    "plt.xlabel('Durée de Livraison')\n",
    "plt.ylabel('Review Score')\n",
    "\n",
    "plt.show()"
   ]
  },
  {
   "cell_type": "code",
   "execution_count": 48,
   "metadata": {},
   "outputs": [
    {
     "data": {
      "image/png": "[encoded data removed]",
      "text/plain": [
       "<Figure size 1000x600 with 1 Axes>"
      ]
     },
     "metadata": {},
     "output_type": "display_data"
    }
   ],
   "source": [
    "grouped = order_items.groupby(['difference_real_estimated_delivery', 'review_score']).size().reset_index(name='count')\n",
    "\n",
    "plt.figure(figsize=(10, 6))\n",
    "\n",
    "plt.scatter(\n",
    "    grouped['difference_real_estimated_delivery'], \n",
    "    grouped['review_score'], \n",
    "    s=grouped['count'],\n",
    "    alpha=0.5\n",
    ")\n",
    "\n",
    "plt.title('Score de satisfaction en fonction de la différence entre temps réel et estimé de livraison')\n",
    "plt.xlabel('Durée de Livraison')\n",
    "plt.ylabel('Review Score')\n",
    "\n",
    "plt.show()"
   ]
  },
  {
   "cell_type": "markdown",
   "metadata": {},
   "source": [
    "### Ajout des modalités de paiement"
   ]
  },
  {
   "cell_type": "markdown",
   "metadata": {},
   "source": [
    "On remplace la colonne payment_installments qui correspond actuellement au numéro de versement par le nombre total de versements pour une commande."
   ]
  },
  {
   "cell_type": "code",
   "execution_count": 49,
   "metadata": {},
   "outputs": [
    {
     "data": {
      "text/html": [
       "<div>\n",
       "<style scoped>\n",
       "    .dataframe tbody tr th:only-of-type {\n",
       "        vertical-align: middle;\n",
       "    }\n",
       "\n",
       "    .dataframe tbody tr th {\n",
       "        vertical-align: top;\n",
       "    }\n",
       "\n",
       "    .dataframe thead th {\n",
       "        text-align: right;\n",
       "    }\n",
       "</style>\n",
       "<table border=\"1\" class=\"dataframe\">\n",
       "  <thead>\n",
       "    <tr style=\"text-align: right;\">\n",
       "      <th></th>\n",
       "      <th>order_id</th>\n",
       "      <th>order_item_id</th>\n",
       "      <th>product_id</th>\n",
       "      <th>seller_id</th>\n",
       "      <th>price</th>\n",
       "      <th>freight_value</th>\n",
       "      <th>customer_id</th>\n",
       "      <th>order_status</th>\n",
       "      <th>order_purchase_timestamp</th>\n",
       "      <th>order_delivered_customer_date</th>\n",
       "      <th>sale_month</th>\n",
       "      <th>duration_delivery</th>\n",
       "      <th>difference_real_estimated_delivery</th>\n",
       "      <th>review_score</th>\n",
       "      <th>reviews_number</th>\n",
       "      <th>payment_type</th>\n",
       "      <th>payment_installments</th>\n",
       "      <th>payment_value</th>\n",
       "    </tr>\n",
       "  </thead>\n",
       "  <tbody>\n",
       "    <tr>\n",
       "      <th>79583</th>\n",
       "      <td>b132ad2a1d3d44a9fe2fe6b63c406593</td>\n",
       "      <td>1</td>\n",
       "      <td>7efd7d1a1a985eae9fecdb134fd657d3</td>\n",
       "      <td>a673821011d0cec28146ea42f5ab767f</td>\n",
       "      <td>69.90</td>\n",
       "      <td>9.34</td>\n",
       "      <td>bf95f6cb7e9395f311cf318041fd0bd2</td>\n",
       "      <td>delivered</td>\n",
       "      <td>2017-08-15 18:24:02</td>\n",
       "      <td>2017-08-31 20:29:56</td>\n",
       "      <td>8</td>\n",
       "      <td>16.0</td>\n",
       "      <td>0.0</td>\n",
       "      <td>3.0</td>\n",
       "      <td>0.0</td>\n",
       "      <td>credit_card</td>\n",
       "      <td>7.0</td>\n",
       "      <td>79.24</td>\n",
       "    </tr>\n",
       "    <tr>\n",
       "      <th>94346</th>\n",
       "      <td>d17ebef6117650c283479ff4dca49c6f</td>\n",
       "      <td>2</td>\n",
       "      <td>b71ed32edb9ce4684e10a11309011b60</td>\n",
       "      <td>5a93f3ab0ef4c84ed5e1b5dbf23978bc</td>\n",
       "      <td>10.00</td>\n",
       "      <td>15.10</td>\n",
       "      <td>05e86ce92eb1b627c2296627078d237c</td>\n",
       "      <td>delivered</td>\n",
       "      <td>2017-07-20 12:00:22</td>\n",
       "      <td>2017-07-31 19:03:53</td>\n",
       "      <td>7</td>\n",
       "      <td>11.0</td>\n",
       "      <td>-20.0</td>\n",
       "      <td>5.0</td>\n",
       "      <td>0.0</td>\n",
       "      <td>credit_card</td>\n",
       "      <td>5.0</td>\n",
       "      <td>50.20</td>\n",
       "    </tr>\n",
       "    <tr>\n",
       "      <th>102355</th>\n",
       "      <td>e339c040755b354d17a122b68617cb4f</td>\n",
       "      <td>1</td>\n",
       "      <td>675dbd52c3dadeafa9a8c96ea5a9bfc6</td>\n",
       "      <td>9e6229250fedbe05838fef417b74e7fb</td>\n",
       "      <td>149.90</td>\n",
       "      <td>27.35</td>\n",
       "      <td>511a4d0fd15ef186a3103e38ef910563</td>\n",
       "      <td>delivered</td>\n",
       "      <td>2018-08-16 11:54:27</td>\n",
       "      <td>2018-08-28 00:12:31</td>\n",
       "      <td>8</td>\n",
       "      <td>12.0</td>\n",
       "      <td>-21.0</td>\n",
       "      <td>4.0</td>\n",
       "      <td>0.0</td>\n",
       "      <td>credit_card</td>\n",
       "      <td>7.0</td>\n",
       "      <td>177.25</td>\n",
       "    </tr>\n",
       "    <tr>\n",
       "      <th>51886</th>\n",
       "      <td>733382d1468823c8be556d7aa233e8da</td>\n",
       "      <td>1</td>\n",
       "      <td>72172e982e8b92155069e4201c92c0bb</td>\n",
       "      <td>e9779976487b77c6d4ac45f75ec7afe9</td>\n",
       "      <td>37.49</td>\n",
       "      <td>9.27</td>\n",
       "      <td>f0110bd48b4ad1321c9a097547e2ab32</td>\n",
       "      <td>delivered</td>\n",
       "      <td>2017-10-05 17:50:00</td>\n",
       "      <td>2017-10-11 13:06:29</td>\n",
       "      <td>10</td>\n",
       "      <td>6.0</td>\n",
       "      <td>-11.0</td>\n",
       "      <td>3.0</td>\n",
       "      <td>0.0</td>\n",
       "      <td>credit_card</td>\n",
       "      <td>4.0</td>\n",
       "      <td>46.76</td>\n",
       "    </tr>\n",
       "    <tr>\n",
       "      <th>64183</th>\n",
       "      <td>8f4235528e51aeb039cdf73bc049c7e1</td>\n",
       "      <td>1</td>\n",
       "      <td>2ffdf10e724b958c0f7ea69e97d32f64</td>\n",
       "      <td>4869f7a5dfa277a7dca6462dcf3b52b2</td>\n",
       "      <td>224.90</td>\n",
       "      <td>16.32</td>\n",
       "      <td>058f0f800afc323b17c63576ee96b0a8</td>\n",
       "      <td>delivered</td>\n",
       "      <td>2018-02-28 17:02:40</td>\n",
       "      <td>2018-04-16 18:03:44</td>\n",
       "      <td>2</td>\n",
       "      <td>47.0</td>\n",
       "      <td>26.0</td>\n",
       "      <td>1.0</td>\n",
       "      <td>0.0</td>\n",
       "      <td>credit_card</td>\n",
       "      <td>8.0</td>\n",
       "      <td>241.22</td>\n",
       "    </tr>\n",
       "  </tbody>\n",
       "</table>\n",
       "</div>"
      ],
      "text/plain": [
       "                                order_id  order_item_id  \\\n",
       "79583   b132ad2a1d3d44a9fe2fe6b63c406593              1   \n",
       "94346   d17ebef6117650c283479ff4dca49c6f              2   \n",
       "102355  e339c040755b354d17a122b68617cb4f              1   \n",
       "51886   733382d1468823c8be556d7aa233e8da              1   \n",
       "64183   8f4235528e51aeb039cdf73bc049c7e1              1   \n",
       "\n",
       "                              product_id                         seller_id  \\\n",
       "79583   7efd7d1a1a985eae9fecdb134fd657d3  a673821011d0cec28146ea42f5ab767f   \n",
       "94346   b71ed32edb9ce4684e10a11309011b60  5a93f3ab0ef4c84ed5e1b5dbf23978bc   \n",
       "102355  675dbd52c3dadeafa9a8c96ea5a9bfc6  9e6229250fedbe05838fef417b74e7fb   \n",
       "51886   72172e982e8b92155069e4201c92c0bb  e9779976487b77c6d4ac45f75ec7afe9   \n",
       "64183   2ffdf10e724b958c0f7ea69e97d32f64  4869f7a5dfa277a7dca6462dcf3b52b2   \n",
       "\n",
       "         price  freight_value                       customer_id order_status  \\\n",
       "79583    69.90           9.34  bf95f6cb7e9395f311cf318041fd0bd2    delivered   \n",
       "94346    10.00          15.10  05e86ce92eb1b627c2296627078d237c    delivered   \n",
       "102355  149.90          27.35  511a4d0fd15ef186a3103e38ef910563    delivered   \n",
       "51886    37.49           9.27  f0110bd48b4ad1321c9a097547e2ab32    delivered   \n",
       "64183   224.90          16.32  058f0f800afc323b17c63576ee96b0a8    delivered   \n",
       "\n",
       "       order_purchase_timestamp order_delivered_customer_date  sale_month  \\\n",
       "79583       2017-08-15 18:24:02           2017-08-31 20:29:56           8   \n",
       "94346       2017-07-20 12:00:22           2017-07-31 19:03:53           7   \n",
       "102355      2018-08-16 11:54:27           2018-08-28 00:12:31           8   \n",
       "51886       2017-10-05 17:50:00           2017-10-11 13:06:29          10   \n",
       "64183       2018-02-28 17:02:40           2018-04-16 18:03:44           2   \n",
       "\n",
       "        duration_delivery  difference_real_estimated_delivery  review_score  \\\n",
       "79583                16.0                                 0.0           3.0   \n",
       "94346                11.0                               -20.0           5.0   \n",
       "102355               12.0                               -21.0           4.0   \n",
       "51886                 6.0                               -11.0           3.0   \n",
       "64183                47.0                                26.0           1.0   \n",
       "\n",
       "        reviews_number payment_type  payment_installments  payment_value  \n",
       "79583              0.0  credit_card                   7.0          79.24  \n",
       "94346              0.0  credit_card                   5.0          50.20  \n",
       "102355             0.0  credit_card                   7.0         177.25  \n",
       "51886              0.0  credit_card                   4.0          46.76  \n",
       "64183              0.0  credit_card                   8.0         241.22  "
      ]
     },
     "execution_count": 49,
     "metadata": {},
     "output_type": "execute_result"
    }
   ],
   "source": [
    "order_items = pd.merge(order_items, order_payments,\n",
    "                       how=\"left\",\n",
    "                       on=\"order_id\")\n",
    "\n",
    "order_items.drop(\"payment_sequential\", axis=1, inplace=True)\n",
    "order_items.sample(5)"
   ]
  },
  {
   "cell_type": "code",
   "execution_count": 50,
   "metadata": {},
   "outputs": [
    {
     "data": {
      "text/plain": [
       "(115038, 18)"
      ]
     },
     "execution_count": 50,
     "metadata": {},
     "output_type": "execute_result"
    }
   ],
   "source": [
    "order_items.shape"
   ]
  },
  {
   "cell_type": "markdown",
   "metadata": {},
   "source": [
    "#### Répartitions des moyens de paiement par commande "
   ]
  },
  {
   "cell_type": "code",
   "execution_count": 51,
   "metadata": {},
   "outputs": [
    {
     "data": {
      "image/png": "[encoded data removed]",
      "text/plain": [
       "<Figure size 1200x800 with 1 Axes>"
      ]
     },
     "metadata": {},
     "output_type": "display_data"
    }
   ],
   "source": [
    "fig = plt.figure(figsize=(12, 8))\n",
    "sns.countplot(order_items, x=\"payment_type\",\n",
    "              edgecolor=\"black\",\n",
    "              color=\"#00d994\", alpha=0.7)\n",
    "plt.title(f\"Répartition des moyens de paiement\\n\")\n",
    "plt.show()"
   ]
  },
  {
   "cell_type": "markdown",
   "metadata": {},
   "source": [
    "boleto: document de paiement sous forme de code barre populaire au Brésil  \n",
    "voucher: bon d'achat"
   ]
  },
  {
   "cell_type": "code",
   "execution_count": 52,
   "metadata": {},
   "outputs": [
    {
     "name": "stderr",
     "output_type": "stream",
     "text": [
      "/usr/local/lib/python3.9/site-packages/sklearn/preprocessing/_encoders.py:868: FutureWarning: `sparse` was renamed to `sparse_output` in version 1.2 and will be removed in 1.4. `sparse_output` is ignored unless you leave `sparse` to its default value.\n",
      "  warnings.warn(\n"
     ]
    },
    {
     "data": {
      "text/plain": [
       "(115038, 22)"
      ]
     },
     "execution_count": 52,
     "metadata": {},
     "output_type": "execute_result"
    }
   ],
   "source": [
    "from sklearn.preprocessing import OneHotEncoder\n",
    "\n",
    "payment_type_data = order_items[['payment_type']]\n",
    "\n",
    "# Initialisation de l'encodeur\n",
    "onehot_encoder = OneHotEncoder(sparse=False)\n",
    "\n",
    "# Adaptation et transformation des données\n",
    "payment_type_encoded = onehot_encoder.fit_transform(payment_type_data)\n",
    "encoded_columns = onehot_encoder.get_feature_names_out(['payment_type'])\n",
    "\n",
    "payment_type_encoded_df = pd.DataFrame(payment_type_encoded, columns=encoded_columns)\n",
    "\n",
    "order_items = pd.concat([order_items, payment_type_encoded_df], axis=1)\n",
    "order_items.drop('payment_type', axis=1, inplace=True)\n",
    "\n",
    "order_items.shape"
   ]
  },
  {
   "cell_type": "code",
   "execution_count": 53,
   "metadata": {},
   "outputs": [
    {
     "data": {
      "text/plain": [
       "Index(['order_id', 'order_item_id', 'product_id', 'seller_id', 'price',\n",
       "       'freight_value', 'customer_id', 'order_status',\n",
       "       'order_purchase_timestamp', 'order_delivered_customer_date',\n",
       "       'sale_month', 'duration_delivery', 'difference_real_estimated_delivery',\n",
       "       'review_score', 'reviews_number', 'payment_installments',\n",
       "       'payment_value', 'payment_type_boleto', 'payment_type_credit_card',\n",
       "       'payment_type_debit_card', 'payment_type_voucher', 'payment_type_nan'],\n",
       "      dtype='object')"
      ]
     },
     "execution_count": 53,
     "metadata": {},
     "output_type": "execute_result"
    }
   ],
   "source": [
    "order_items.columns"
   ]
  },
  {
   "cell_type": "code",
   "execution_count": 54,
   "metadata": {},
   "outputs": [
    {
     "data": {
      "text/html": [
       "<div>\n",
       "<style scoped>\n",
       "    .dataframe tbody tr th:only-of-type {\n",
       "        vertical-align: middle;\n",
       "    }\n",
       "\n",
       "    .dataframe tbody tr th {\n",
       "        vertical-align: top;\n",
       "    }\n",
       "\n",
       "    .dataframe thead th {\n",
       "        text-align: right;\n",
       "    }\n",
       "</style>\n",
       "<table border=\"1\" class=\"dataframe\">\n",
       "  <thead>\n",
       "    <tr style=\"text-align: right;\">\n",
       "      <th></th>\n",
       "      <th>payment_type_boleto</th>\n",
       "      <th>payment_type_credit_card</th>\n",
       "      <th>payment_type_debit_card</th>\n",
       "      <th>payment_type_voucher</th>\n",
       "      <th>payment_type_nan</th>\n",
       "    </tr>\n",
       "  </thead>\n",
       "  <tbody>\n",
       "    <tr>\n",
       "      <th>55143</th>\n",
       "      <td>1.0</td>\n",
       "      <td>0.0</td>\n",
       "      <td>0.0</td>\n",
       "      <td>0.0</td>\n",
       "      <td>0.0</td>\n",
       "    </tr>\n",
       "    <tr>\n",
       "      <th>10031</th>\n",
       "      <td>0.0</td>\n",
       "      <td>1.0</td>\n",
       "      <td>0.0</td>\n",
       "      <td>0.0</td>\n",
       "      <td>0.0</td>\n",
       "    </tr>\n",
       "    <tr>\n",
       "      <th>19379</th>\n",
       "      <td>0.0</td>\n",
       "      <td>1.0</td>\n",
       "      <td>0.0</td>\n",
       "      <td>0.0</td>\n",
       "      <td>0.0</td>\n",
       "    </tr>\n",
       "    <tr>\n",
       "      <th>67126</th>\n",
       "      <td>0.0</td>\n",
       "      <td>1.0</td>\n",
       "      <td>0.0</td>\n",
       "      <td>0.0</td>\n",
       "      <td>0.0</td>\n",
       "    </tr>\n",
       "    <tr>\n",
       "      <th>35496</th>\n",
       "      <td>0.0</td>\n",
       "      <td>1.0</td>\n",
       "      <td>0.0</td>\n",
       "      <td>0.0</td>\n",
       "      <td>0.0</td>\n",
       "    </tr>\n",
       "  </tbody>\n",
       "</table>\n",
       "</div>"
      ],
      "text/plain": [
       "       payment_type_boleto  payment_type_credit_card  payment_type_debit_card  \\\n",
       "55143                  1.0                       0.0                      0.0   \n",
       "10031                  0.0                       1.0                      0.0   \n",
       "19379                  0.0                       1.0                      0.0   \n",
       "67126                  0.0                       1.0                      0.0   \n",
       "35496                  0.0                       1.0                      0.0   \n",
       "\n",
       "       payment_type_voucher  payment_type_nan  \n",
       "55143                   0.0               0.0  \n",
       "10031                   0.0               0.0  \n",
       "19379                   0.0               0.0  \n",
       "67126                   0.0               0.0  \n",
       "35496                   0.0               0.0  "
      ]
     },
     "execution_count": 54,
     "metadata": {},
     "output_type": "execute_result"
    }
   ],
   "source": [
    "order_items[['payment_type_boleto', 'payment_type_credit_card',\n",
    "       'payment_type_debit_card', 'payment_type_voucher', 'payment_type_nan']].sample(5)"
   ]
  },
  {
   "cell_type": "markdown",
   "metadata": {},
   "source": [
    "### Ajout des produits"
   ]
  },
  {
   "cell_type": "markdown",
   "metadata": {},
   "source": [
    "#### Jointure avec la traduction en anglais des types de produits"
   ]
  },
  {
   "cell_type": "code",
   "execution_count": 55,
   "metadata": {},
   "outputs": [
    {
     "data": {
      "text/html": [
       "<div>\n",
       "<style scoped>\n",
       "    .dataframe tbody tr th:only-of-type {\n",
       "        vertical-align: middle;\n",
       "    }\n",
       "\n",
       "    .dataframe tbody tr th {\n",
       "        vertical-align: top;\n",
       "    }\n",
       "\n",
       "    .dataframe thead th {\n",
       "        text-align: right;\n",
       "    }\n",
       "</style>\n",
       "<table border=\"1\" class=\"dataframe\">\n",
       "  <thead>\n",
       "    <tr style=\"text-align: right;\">\n",
       "      <th></th>\n",
       "      <th>product_id</th>\n",
       "      <th>product_name_lenght</th>\n",
       "      <th>product_description_lenght</th>\n",
       "      <th>product_photos_qty</th>\n",
       "      <th>product_weight_g</th>\n",
       "      <th>product_length_cm</th>\n",
       "      <th>product_height_cm</th>\n",
       "      <th>product_width_cm</th>\n",
       "      <th>product_category_name</th>\n",
       "    </tr>\n",
       "  </thead>\n",
       "  <tbody>\n",
       "    <tr>\n",
       "      <th>8793</th>\n",
       "      <td>962f5772bee158b6fa65e4112823c598</td>\n",
       "      <td>50.0</td>\n",
       "      <td>1266.0</td>\n",
       "      <td>1.0</td>\n",
       "      <td>4450.0</td>\n",
       "      <td>20.0</td>\n",
       "      <td>20.0</td>\n",
       "      <td>20.0</td>\n",
       "      <td>health_beauty</td>\n",
       "    </tr>\n",
       "    <tr>\n",
       "      <th>5899</th>\n",
       "      <td>489ae2aa008f021502940f251d4cce7f</td>\n",
       "      <td>31.0</td>\n",
       "      <td>875.0</td>\n",
       "      <td>2.0</td>\n",
       "      <td>30000.0</td>\n",
       "      <td>60.0</td>\n",
       "      <td>61.0</td>\n",
       "      <td>33.0</td>\n",
       "      <td>housewares</td>\n",
       "    </tr>\n",
       "    <tr>\n",
       "      <th>16548</th>\n",
       "      <td>14d8c1bbd5f367608c37522e99c47258</td>\n",
       "      <td>16.0</td>\n",
       "      <td>276.0</td>\n",
       "      <td>1.0</td>\n",
       "      <td>150.0</td>\n",
       "      <td>28.0</td>\n",
       "      <td>2.0</td>\n",
       "      <td>19.0</td>\n",
       "      <td>books_general_interest</td>\n",
       "    </tr>\n",
       "    <tr>\n",
       "      <th>6417</th>\n",
       "      <td>c5de3a869922e74a2bf19a543f4ac55b</td>\n",
       "      <td>58.0</td>\n",
       "      <td>1281.0</td>\n",
       "      <td>1.0</td>\n",
       "      <td>2220.0</td>\n",
       "      <td>54.0</td>\n",
       "      <td>10.0</td>\n",
       "      <td>11.0</td>\n",
       "      <td>construction_tools_construction</td>\n",
       "    </tr>\n",
       "    <tr>\n",
       "      <th>17932</th>\n",
       "      <td>10cb4574e88302b21a629d95fe74c54f</td>\n",
       "      <td>59.0</td>\n",
       "      <td>345.0</td>\n",
       "      <td>6.0</td>\n",
       "      <td>4950.0</td>\n",
       "      <td>56.0</td>\n",
       "      <td>12.0</td>\n",
       "      <td>40.0</td>\n",
       "      <td>bed_bath_table</td>\n",
       "    </tr>\n",
       "  </tbody>\n",
       "</table>\n",
       "</div>"
      ],
      "text/plain": [
       "                             product_id  product_name_lenght  \\\n",
       "8793   962f5772bee158b6fa65e4112823c598                 50.0   \n",
       "5899   489ae2aa008f021502940f251d4cce7f                 31.0   \n",
       "16548  14d8c1bbd5f367608c37522e99c47258                 16.0   \n",
       "6417   c5de3a869922e74a2bf19a543f4ac55b                 58.0   \n",
       "17932  10cb4574e88302b21a629d95fe74c54f                 59.0   \n",
       "\n",
       "       product_description_lenght  product_photos_qty  product_weight_g  \\\n",
       "8793                       1266.0                 1.0            4450.0   \n",
       "5899                        875.0                 2.0           30000.0   \n",
       "16548                       276.0                 1.0             150.0   \n",
       "6417                       1281.0                 1.0            2220.0   \n",
       "17932                       345.0                 6.0            4950.0   \n",
       "\n",
       "       product_length_cm  product_height_cm  product_width_cm  \\\n",
       "8793                20.0               20.0              20.0   \n",
       "5899                60.0               61.0              33.0   \n",
       "16548               28.0                2.0              19.0   \n",
       "6417                54.0               10.0              11.0   \n",
       "17932               56.0               12.0              40.0   \n",
       "\n",
       "                 product_category_name  \n",
       "8793                     health_beauty  \n",
       "5899                        housewares  \n",
       "16548           books_general_interest  \n",
       "6417   construction_tools_construction  \n",
       "17932                   bed_bath_table  "
      ]
     },
     "execution_count": 55,
     "metadata": {},
     "output_type": "execute_result"
    }
   ],
   "source": [
    "products = pd.merge(products, product_category_name_translation,\n",
    "                    how=\"left\",\n",
    "                    on=\"product_category_name\")\n",
    "products.drop(\"product_category_name\", axis=1, inplace=True)\n",
    "products = products.rename(columns={\"product_category_name_english\":\n",
    "                                    \"product_category_name\"})\n",
    "products.sample(5)"
   ]
  },
  {
   "cell_type": "markdown",
   "metadata": {},
   "source": [
    "#### Distribution des catégories de produits"
   ]
  },
  {
   "cell_type": "code",
   "execution_count": 56,
   "metadata": {},
   "outputs": [
    {
     "data": {
      "image/png": "[encoded data removed]",
      "text/plain": [
       "<Figure size 1000x600 with 1 Axes>"
      ]
     },
     "metadata": {},
     "output_type": "display_data"
    }
   ],
   "source": [
    "products_counts = products[\"product_category_name\"].value_counts()\n",
    "\n",
    "plt.figure(figsize=(10, 6))\n",
    "products_counts.plot(kind=\"bar\")\n",
    "plt.title(\"Distribution des catégories de produits\")\n",
    "plt.xlabel(\"Catégorie de produit\")\n",
    "plt.ylabel(\"Nombre d'occurrences\")\n",
    "plt.xticks(rotation=90)\n",
    "plt.tight_layout()\n",
    "plt.show()"
   ]
  },
  {
   "cell_type": "markdown",
   "metadata": {},
   "source": [
    "#### Jointure avec le dataset products"
   ]
  },
  {
   "cell_type": "code",
   "execution_count": 57,
   "metadata": {},
   "outputs": [
    {
     "data": {
      "text/html": [
       "<div>\n",
       "<style scoped>\n",
       "    .dataframe tbody tr th:only-of-type {\n",
       "        vertical-align: middle;\n",
       "    }\n",
       "\n",
       "    .dataframe tbody tr th {\n",
       "        vertical-align: top;\n",
       "    }\n",
       "\n",
       "    .dataframe thead th {\n",
       "        text-align: right;\n",
       "    }\n",
       "</style>\n",
       "<table border=\"1\" class=\"dataframe\">\n",
       "  <thead>\n",
       "    <tr style=\"text-align: right;\">\n",
       "      <th></th>\n",
       "      <th>order_id</th>\n",
       "      <th>order_item_id</th>\n",
       "      <th>product_id</th>\n",
       "      <th>seller_id</th>\n",
       "      <th>price</th>\n",
       "      <th>freight_value</th>\n",
       "      <th>customer_id</th>\n",
       "      <th>order_status</th>\n",
       "      <th>order_purchase_timestamp</th>\n",
       "      <th>order_delivered_customer_date</th>\n",
       "      <th>...</th>\n",
       "      <th>review_score</th>\n",
       "      <th>reviews_number</th>\n",
       "      <th>payment_installments</th>\n",
       "      <th>payment_value</th>\n",
       "      <th>payment_type_boleto</th>\n",
       "      <th>payment_type_credit_card</th>\n",
       "      <th>payment_type_debit_card</th>\n",
       "      <th>payment_type_voucher</th>\n",
       "      <th>payment_type_nan</th>\n",
       "      <th>product_category_name</th>\n",
       "    </tr>\n",
       "  </thead>\n",
       "  <tbody>\n",
       "    <tr>\n",
       "      <th>61830</th>\n",
       "      <td>89b939af6aada7003d4d2930b87d8b68</td>\n",
       "      <td>2</td>\n",
       "      <td>dc58d5459e21851dd9acdfc10a621159</td>\n",
       "      <td>4992e76a42cb3aad7a7047e0d3d7e729</td>\n",
       "      <td>34.90</td>\n",
       "      <td>14.10</td>\n",
       "      <td>650dd9e8340ce0d99ea8bcddb610c529</td>\n",
       "      <td>delivered</td>\n",
       "      <td>2017-09-10 23:03:19</td>\n",
       "      <td>2017-09-14 22:21:57</td>\n",
       "      <td>...</td>\n",
       "      <td>4.0</td>\n",
       "      <td>0.0</td>\n",
       "      <td>4.0</td>\n",
       "      <td>98.00</td>\n",
       "      <td>0.0</td>\n",
       "      <td>1.0</td>\n",
       "      <td>0.0</td>\n",
       "      <td>0.0</td>\n",
       "      <td>0.0</td>\n",
       "      <td>housewares</td>\n",
       "    </tr>\n",
       "    <tr>\n",
       "      <th>114514</th>\n",
       "      <td>fedcd9f7ccdc8cba3a18defedd1a5547</td>\n",
       "      <td>1</td>\n",
       "      <td>0554911df28fda9fd668ce5ba5949695</td>\n",
       "      <td>7c67e1448b00f6e969d365cea6b010ab</td>\n",
       "      <td>79.99</td>\n",
       "      <td>22.88</td>\n",
       "      <td>13aa59158da63ba0e93ec6ac2c07aacb</td>\n",
       "      <td>delivered</td>\n",
       "      <td>2017-09-23 14:56:45</td>\n",
       "      <td>2017-10-18 22:35:50</td>\n",
       "      <td>...</td>\n",
       "      <td>5.0</td>\n",
       "      <td>0.0</td>\n",
       "      <td>1.0</td>\n",
       "      <td>9.76</td>\n",
       "      <td>0.0</td>\n",
       "      <td>0.0</td>\n",
       "      <td>0.0</td>\n",
       "      <td>1.0</td>\n",
       "      <td>0.0</td>\n",
       "      <td>office_furniture</td>\n",
       "    </tr>\n",
       "    <tr>\n",
       "      <th>43948</th>\n",
       "      <td>61b73d6deb118dad91fa0cca4365e4dd</td>\n",
       "      <td>1</td>\n",
       "      <td>1264d5ede085c34d455f62cceca87791</td>\n",
       "      <td>d379f449f2a3b271bc01c0782020f705</td>\n",
       "      <td>39.90</td>\n",
       "      <td>17.60</td>\n",
       "      <td>a8fb590bc25c544e61460926ab10a3c0</td>\n",
       "      <td>delivered</td>\n",
       "      <td>2018-01-25 10:42:59</td>\n",
       "      <td>2018-02-01 00:45:01</td>\n",
       "      <td>...</td>\n",
       "      <td>5.0</td>\n",
       "      <td>0.0</td>\n",
       "      <td>1.0</td>\n",
       "      <td>16.04</td>\n",
       "      <td>0.0</td>\n",
       "      <td>0.0</td>\n",
       "      <td>0.0</td>\n",
       "      <td>1.0</td>\n",
       "      <td>0.0</td>\n",
       "      <td>furniture_decor</td>\n",
       "    </tr>\n",
       "    <tr>\n",
       "      <th>102346</th>\n",
       "      <td>e3352388edfd888eea554ed3c10eaef0</td>\n",
       "      <td>1</td>\n",
       "      <td>c9fa6a0dbc5b979d8c99f38c3c9c912f</td>\n",
       "      <td>9f505651f4a6abe901a56cdc21508025</td>\n",
       "      <td>17.99</td>\n",
       "      <td>7.78</td>\n",
       "      <td>22e3f291b6673ef19eb92086a28cdba9</td>\n",
       "      <td>delivered</td>\n",
       "      <td>2017-12-26 13:18:26</td>\n",
       "      <td>2017-12-27 16:51:50</td>\n",
       "      <td>...</td>\n",
       "      <td>5.0</td>\n",
       "      <td>0.0</td>\n",
       "      <td>1.0</td>\n",
       "      <td>25.77</td>\n",
       "      <td>0.0</td>\n",
       "      <td>1.0</td>\n",
       "      <td>0.0</td>\n",
       "      <td>0.0</td>\n",
       "      <td>0.0</td>\n",
       "      <td>consoles_games</td>\n",
       "    </tr>\n",
       "    <tr>\n",
       "      <th>6644</th>\n",
       "      <td>0ec76bccb5366815ac1be29b90db03c7</td>\n",
       "      <td>1</td>\n",
       "      <td>bee2e070c39f3dd2f6883a17a5f0da45</td>\n",
       "      <td>4e922959ae960d389249c378d1c939f5</td>\n",
       "      <td>180.00</td>\n",
       "      <td>16.01</td>\n",
       "      <td>376085f5d0619f4cc1ea6cc1eb6663d6</td>\n",
       "      <td>delivered</td>\n",
       "      <td>2018-03-02 19:33:49</td>\n",
       "      <td>2018-03-29 21:58:54</td>\n",
       "      <td>...</td>\n",
       "      <td>5.0</td>\n",
       "      <td>0.0</td>\n",
       "      <td>2.0</td>\n",
       "      <td>196.01</td>\n",
       "      <td>0.0</td>\n",
       "      <td>1.0</td>\n",
       "      <td>0.0</td>\n",
       "      <td>0.0</td>\n",
       "      <td>0.0</td>\n",
       "      <td>computers_accessories</td>\n",
       "    </tr>\n",
       "  </tbody>\n",
       "</table>\n",
       "<p>5 rows × 23 columns</p>\n",
       "</div>"
      ],
      "text/plain": [
       "                                order_id  order_item_id  \\\n",
       "61830   89b939af6aada7003d4d2930b87d8b68              2   \n",
       "114514  fedcd9f7ccdc8cba3a18defedd1a5547              1   \n",
       "43948   61b73d6deb118dad91fa0cca4365e4dd              1   \n",
       "102346  e3352388edfd888eea554ed3c10eaef0              1   \n",
       "6644    0ec76bccb5366815ac1be29b90db03c7              1   \n",
       "\n",
       "                              product_id                         seller_id  \\\n",
       "61830   dc58d5459e21851dd9acdfc10a621159  4992e76a42cb3aad7a7047e0d3d7e729   \n",
       "114514  0554911df28fda9fd668ce5ba5949695  7c67e1448b00f6e969d365cea6b010ab   \n",
       "43948   1264d5ede085c34d455f62cceca87791  d379f449f2a3b271bc01c0782020f705   \n",
       "102346  c9fa6a0dbc5b979d8c99f38c3c9c912f  9f505651f4a6abe901a56cdc21508025   \n",
       "6644    bee2e070c39f3dd2f6883a17a5f0da45  4e922959ae960d389249c378d1c939f5   \n",
       "\n",
       "         price  freight_value                       customer_id order_status  \\\n",
       "61830    34.90          14.10  650dd9e8340ce0d99ea8bcddb610c529    delivered   \n",
       "114514   79.99          22.88  13aa59158da63ba0e93ec6ac2c07aacb    delivered   \n",
       "43948    39.90          17.60  a8fb590bc25c544e61460926ab10a3c0    delivered   \n",
       "102346   17.99           7.78  22e3f291b6673ef19eb92086a28cdba9    delivered   \n",
       "6644    180.00          16.01  376085f5d0619f4cc1ea6cc1eb6663d6    delivered   \n",
       "\n",
       "       order_purchase_timestamp order_delivered_customer_date  ...  \\\n",
       "61830       2017-09-10 23:03:19           2017-09-14 22:21:57  ...   \n",
       "114514      2017-09-23 14:56:45           2017-10-18 22:35:50  ...   \n",
       "43948       2018-01-25 10:42:59           2018-02-01 00:45:01  ...   \n",
       "102346      2017-12-26 13:18:26           2017-12-27 16:51:50  ...   \n",
       "6644        2018-03-02 19:33:49           2018-03-29 21:58:54  ...   \n",
       "\n",
       "        review_score  reviews_number  payment_installments  payment_value  \\\n",
       "61830            4.0             0.0                   4.0          98.00   \n",
       "114514           5.0             0.0                   1.0           9.76   \n",
       "43948            5.0             0.0                   1.0          16.04   \n",
       "102346           5.0             0.0                   1.0          25.77   \n",
       "6644             5.0             0.0                   2.0         196.01   \n",
       "\n",
       "        payment_type_boleto  payment_type_credit_card  \\\n",
       "61830                   0.0                       1.0   \n",
       "114514                  0.0                       0.0   \n",
       "43948                   0.0                       0.0   \n",
       "102346                  0.0                       1.0   \n",
       "6644                    0.0                       1.0   \n",
       "\n",
       "        payment_type_debit_card  payment_type_voucher  payment_type_nan  \\\n",
       "61830                       0.0                   0.0               0.0   \n",
       "114514                      0.0                   1.0               0.0   \n",
       "43948                       0.0                   1.0               0.0   \n",
       "102346                      0.0                   0.0               0.0   \n",
       "6644                        0.0                   0.0               0.0   \n",
       "\n",
       "        product_category_name  \n",
       "61830              housewares  \n",
       "114514       office_furniture  \n",
       "43948         furniture_decor  \n",
       "102346         consoles_games  \n",
       "6644    computers_accessories  \n",
       "\n",
       "[5 rows x 23 columns]"
      ]
     },
     "execution_count": 57,
     "metadata": {},
     "output_type": "execute_result"
    }
   ],
   "source": [
    "products_subset = products[['product_id', 'product_category_name']]\n",
    "\n",
    "order_items = pd.merge(order_items, products_subset, on='product_id', how='left')\n",
    "order_items.sample(5)"
   ]
  },
  {
   "cell_type": "code",
   "execution_count": 58,
   "metadata": {},
   "outputs": [
    {
     "data": {
      "text/plain": [
       "product_category_name\n",
       "bed_bath_table                             11650\n",
       "health_beauty                               9762\n",
       "sports_leisure                              8733\n",
       "furniture_decor                             8557\n",
       "computers_accessories                       7898\n",
       "housewares                                  7172\n",
       "watches_gifts                               6065\n",
       "telephony                                   4603\n",
       "garden_tools                                4464\n",
       "auto                                        4284\n",
       "toys                                        4185\n",
       "cool_stuff                                  3907\n",
       "perfumery                                   3478\n",
       "baby                                        3112\n",
       "electronics                                 2807\n",
       "stationery                                  2564\n",
       "fashion_bags_accessories                    2105\n",
       "pet_shop                                    2005\n",
       "office_furniture                            1753\n",
       "luggage_accessories                         1148\n",
       "consoles_games                              1139\n",
       "construction_tools_construction              938\n",
       "home_appliances                              771\n",
       "musical_instruments                          688\n",
       "small_appliances                             680\n",
       "home_construction                            626\n",
       "books_general_interest                       549\n",
       "furniture_living_room                        520\n",
       "food                                         515\n",
       "home_confort                                 470\n",
       "audio                                        378\n",
       "drinks                                       367\n",
       "market_place                                 325\n",
       "construction_tools_lights                    310\n",
       "air_conditioning                             294\n",
       "kitchen_dining_laundry_garden_furniture      291\n",
       "food_drink                                   279\n",
       "fashion_shoes                                269\n",
       "industry_commerce_and_business               268\n",
       "books_technical                              266\n",
       "fixed_telephony                              261\n",
       "home_appliances_2                            261\n",
       "agro_industry_and_commerce                   246\n",
       "costruction_tools_garden                     239\n",
       "computers                                    216\n",
       "art                                          207\n",
       "signaling_and_security                       199\n",
       "construction_tools_safety                    187\n",
       "christmas_supplies                           152\n",
       "fashion_underwear_beach                      140\n",
       "fashion_male_clothing                        138\n",
       "furniture_bedroom                            119\n",
       "costruction_tools_tools                      105\n",
       "tablets_printing_image                        87\n",
       "small_appliances_home_oven_and_coffee         75\n",
       "cine_photo                                    71\n",
       "dvds_blu_ray                                  67\n",
       "books_imported                                59\n",
       "party_supplies                                45\n",
       "fashio_female_clothing                        45\n",
       "music                                         40\n",
       "furniture_mattress_and_upholstery             40\n",
       "diapers_and_hygiene                           37\n",
       "flowers                                       33\n",
       "home_comfort_2                                31\n",
       "fashion_sport                                 29\n",
       "arts_and_craftmanship                         24\n",
       "la_cuisine                                    16\n",
       "cds_dvds_musicals                             14\n",
       "fashion_childrens_clothes                      7\n",
       "security_and_services                          2\n",
       "Name: count, dtype: int64"
      ]
     },
     "execution_count": 58,
     "metadata": {},
     "output_type": "execute_result"
    }
   ],
   "source": [
    "pd.set_option('display.max_rows', None)\n",
    "product_types = order_items['product_category_name'].value_counts()\n",
    "product_types"
   ]
  },
  {
   "cell_type": "code",
   "execution_count": 59,
   "metadata": {},
   "outputs": [],
   "source": [
    "pd.reset_option('display.max_rows')"
   ]
  },
  {
   "cell_type": "markdown",
   "metadata": {},
   "source": [
    "#### Feature engineering: simplification des types de produits"
   ]
  },
  {
   "cell_type": "code",
   "execution_count": 60,
   "metadata": {},
   "outputs": [],
   "source": [
    "order_items['product_category'] = np.where((order_items['product_category_name'].str.contains(\"sport\")==True),\n",
    "                                    'sport',\n",
    "                                    np.where((order_items['product_category_name'].str.contains(\"art\")==True),\n",
    "                                    'art',\n",
    "                                    np.where((order_items['product_category_name'].str.contains(\"pet_shop\")==True),\n",
    "                                    'pets',\n",
    "                                    np.where((order_items['product_category_name'].str.contains(\"fashio|luggage\")==True),\n",
    "                                    'fashion_clothing_accessories',\n",
    "                                    np.where((order_items['product_category_name'].str.contains(\"health|beauty|perfum\")==True),\n",
    "                                    'health_beauty',\n",
    "                                    np.where((order_items['product_category_name'].str.contains(\"toy|baby|diaper\")==True),\n",
    "                                     'toys_baby',\n",
    "                                    np.where((order_items['product_category_name'].str.contains(\"book|cd|dvd|media\")==True),\n",
    "                                     'books_cds_media',\n",
    "                                    np.where((order_items['product_category_name'].str.contains(\"grocer|food|drink\")==True), \n",
    "                                     'groceries_food_drink',\n",
    "                                    np.where((order_items['product_category_name'].str.contains(\"phon|compu|tablet|electro|consol\")==True), \n",
    "                                     'technology',\n",
    "                                    np.where((order_items['product_category_name'].str.contains(\"home|furnitur|garden|bath|house|applianc\")==True), \n",
    "                                                                                          'home_furniture',\n",
    "                                    np.where((order_items['product_category_name'].str.contains(\"flow|gift|stuff\")==True),\n",
    "                                     'flowers_gifts',\n",
    "                                     np.where((order_items['product_category_name'].str.contains(\"construction\")==True),\n",
    "                                     'diy_garden_auto',\n",
    "                                     'other'))))))))))))"
   ]
  },
  {
   "cell_type": "code",
   "execution_count": 61,
   "metadata": {},
   "outputs": [],
   "source": [
    "order_items.drop('product_category_name', axis=1, inplace=True)"
   ]
  },
  {
   "cell_type": "code",
   "execution_count": 62,
   "metadata": {},
   "outputs": [
    {
     "data": {
      "text/plain": [
       "(115038, 23)"
      ]
     },
     "execution_count": 62,
     "metadata": {},
     "output_type": "execute_result"
    }
   ],
   "source": [
    "order_items.shape"
   ]
  },
  {
   "cell_type": "code",
   "execution_count": 63,
   "metadata": {},
   "outputs": [
    {
     "data": {
      "text/plain": [
       "product_category\n",
       "home_furniture                  37719\n",
       "technology                      17011\n",
       "health_beauty                   13240\n",
       "other                           11283\n",
       "flowers_gifts                   10005\n",
       "sport                            8762\n",
       "toys_baby                        7334\n",
       "fashion_clothing_accessories     3852\n",
       "pets                             2005\n",
       "diy_garden_auto                  1435\n",
       "groceries_food_drink             1161\n",
       "books_cds_media                   955\n",
       "art                               276\n",
       "Name: count, dtype: int64"
      ]
     },
     "execution_count": 63,
     "metadata": {},
     "output_type": "execute_result"
    }
   ],
   "source": [
    "product_types = order_items['product_category'].value_counts()\n",
    "product_types"
   ]
  },
  {
   "cell_type": "markdown",
   "metadata": {},
   "source": [
    "#### Répartition des catégories de produits"
   ]
  },
  {
   "cell_type": "code",
   "execution_count": 64,
   "metadata": {},
   "outputs": [
    {
     "data": {
      "image/png": "[encoded data removed]",
      "text/plain": [
       "<Figure size 1800x800 with 1 Axes>"
      ]
     },
     "metadata": {},
     "output_type": "display_data"
    }
   ],
   "source": [
    "fig = plt.figure(figsize=(18, 8))\n",
    "sns.countplot(order_items, x=\"product_category\",\n",
    "              edgecolor=\"black\",\n",
    "              color=\"#00d994\", alpha=0.7)\n",
    "plt.xticks(range(0, order_items[\"product_category\"].nunique()),\n",
    "           order_items[\"product_category\"].unique(),\n",
    "           rotation=90)\n",
    "plt.title(f\"Catégories de produits\\n\")\n",
    "plt.show()"
   ]
  },
  {
   "cell_type": "markdown",
   "metadata": {},
   "source": [
    "Les colonnes suivantes ne nous serviront pas pour la modélisation K-Means qui n'est pas adaptée pour les features catégorielles."
   ]
  },
  {
   "cell_type": "code",
   "execution_count": 65,
   "metadata": {},
   "outputs": [],
   "source": [
    "order_items.drop(['payment_type_boleto', 'payment_type_credit_card',\n",
    "       'payment_type_debit_card', 'payment_type_voucher', 'payment_type_nan'], axis=1, inplace=True)"
   ]
  },
  {
   "cell_type": "markdown",
   "metadata": {},
   "source": [
    "### Ajout des localisations"
   ]
  },
  {
   "cell_type": "markdown",
   "metadata": {},
   "source": [
    "#### Jointure avec le dataset customers"
   ]
  },
  {
   "cell_type": "code",
   "execution_count": 66,
   "metadata": {},
   "outputs": [
    {
     "data": {
      "text/html": [
       "<div>\n",
       "<style scoped>\n",
       "    .dataframe tbody tr th:only-of-type {\n",
       "        vertical-align: middle;\n",
       "    }\n",
       "\n",
       "    .dataframe tbody tr th {\n",
       "        vertical-align: top;\n",
       "    }\n",
       "\n",
       "    .dataframe thead th {\n",
       "        text-align: right;\n",
       "    }\n",
       "</style>\n",
       "<table border=\"1\" class=\"dataframe\">\n",
       "  <thead>\n",
       "    <tr style=\"text-align: right;\">\n",
       "      <th></th>\n",
       "      <th>order_id</th>\n",
       "      <th>order_item_id</th>\n",
       "      <th>product_id</th>\n",
       "      <th>seller_id</th>\n",
       "      <th>price</th>\n",
       "      <th>freight_value</th>\n",
       "      <th>customer_id</th>\n",
       "      <th>order_status</th>\n",
       "      <th>order_purchase_timestamp</th>\n",
       "      <th>order_delivered_customer_date</th>\n",
       "      <th>...</th>\n",
       "      <th>duration_delivery</th>\n",
       "      <th>difference_real_estimated_delivery</th>\n",
       "      <th>review_score</th>\n",
       "      <th>reviews_number</th>\n",
       "      <th>payment_installments</th>\n",
       "      <th>payment_value</th>\n",
       "      <th>product_category</th>\n",
       "      <th>customer_unique_id</th>\n",
       "      <th>customer_zip_code_prefix</th>\n",
       "      <th>customer_state</th>\n",
       "    </tr>\n",
       "  </thead>\n",
       "  <tbody>\n",
       "    <tr>\n",
       "      <th>7239</th>\n",
       "      <td>1017e188d93cee2c3292c71a98dbec38</td>\n",
       "      <td>1</td>\n",
       "      <td>8d23da47a7828cf786103f1c3fbeab43</td>\n",
       "      <td>004c9cd9d87a3c30c522c48c4fc07416</td>\n",
       "      <td>143.99</td>\n",
       "      <td>21.09</td>\n",
       "      <td>861728f9a0d9bfa588e238e30a20e278</td>\n",
       "      <td>delivered</td>\n",
       "      <td>2017-04-20 17:17:29</td>\n",
       "      <td>2017-05-03 12:36:30</td>\n",
       "      <td>...</td>\n",
       "      <td>13.0</td>\n",
       "      <td>-12.0</td>\n",
       "      <td>5.0</td>\n",
       "      <td>0.0</td>\n",
       "      <td>5.0</td>\n",
       "      <td>97.46</td>\n",
       "      <td>home_furniture</td>\n",
       "      <td>d01e34f5bfc7a0f5102b962efd522981</td>\n",
       "      <td>88503</td>\n",
       "      <td>SC</td>\n",
       "    </tr>\n",
       "    <tr>\n",
       "      <th>86516</th>\n",
       "      <td>c064d2ccc74eafa9f92b6e742708b48c</td>\n",
       "      <td>2</td>\n",
       "      <td>297b52b57d258e1a40202d4f9fb7e38a</td>\n",
       "      <td>620c87c171fb2a6dd6e8bb4dec959fc6</td>\n",
       "      <td>29.90</td>\n",
       "      <td>18.23</td>\n",
       "      <td>27e703f1e927f1651f5fccdd365cd3e0</td>\n",
       "      <td>delivered</td>\n",
       "      <td>2018-05-11 10:49:25</td>\n",
       "      <td>2018-06-04 21:22:47</td>\n",
       "      <td>...</td>\n",
       "      <td>24.0</td>\n",
       "      <td>6.0</td>\n",
       "      <td>2.0</td>\n",
       "      <td>0.0</td>\n",
       "      <td>2.0</td>\n",
       "      <td>96.26</td>\n",
       "      <td>health_beauty</td>\n",
       "      <td>0d27736889ec9fe9aee055fd301ae784</td>\n",
       "      <td>31525</td>\n",
       "      <td>MG</td>\n",
       "    </tr>\n",
       "    <tr>\n",
       "      <th>24251</th>\n",
       "      <td>36181ce9f0459af55f5aae302b4b13a8</td>\n",
       "      <td>1</td>\n",
       "      <td>bb50f2e236e5eea0100680137654686c</td>\n",
       "      <td>f7ba60f8c3f99e7ee4042fdef03b70c4</td>\n",
       "      <td>325.00</td>\n",
       "      <td>10.04</td>\n",
       "      <td>5f82b6799f7f5bda22833caafe7e8cd2</td>\n",
       "      <td>delivered</td>\n",
       "      <td>2018-03-12 19:37:14</td>\n",
       "      <td>2018-03-15 20:03:14</td>\n",
       "      <td>...</td>\n",
       "      <td>3.0</td>\n",
       "      <td>-6.0</td>\n",
       "      <td>5.0</td>\n",
       "      <td>0.0</td>\n",
       "      <td>3.0</td>\n",
       "      <td>335.04</td>\n",
       "      <td>health_beauty</td>\n",
       "      <td>69173628c3f6d1c28d6285dfdf9f5dcc</td>\n",
       "      <td>5509</td>\n",
       "      <td>SP</td>\n",
       "    </tr>\n",
       "    <tr>\n",
       "      <th>63412</th>\n",
       "      <td>8d7de30c33f737a080cdd433ec8670e4</td>\n",
       "      <td>1</td>\n",
       "      <td>a963ea4d494221de09b70f1b4a70edbd</td>\n",
       "      <td>bd0389da23d89b726abf911cccc54596</td>\n",
       "      <td>89.90</td>\n",
       "      <td>17.34</td>\n",
       "      <td>0b95e76c8ededa5139d9f8b5eed8f904</td>\n",
       "      <td>delivered</td>\n",
       "      <td>2018-04-04 08:14:06</td>\n",
       "      <td>2018-04-14 12:21:35</td>\n",
       "      <td>...</td>\n",
       "      <td>10.0</td>\n",
       "      <td>-10.0</td>\n",
       "      <td>4.0</td>\n",
       "      <td>0.0</td>\n",
       "      <td>1.0</td>\n",
       "      <td>107.24</td>\n",
       "      <td>technology</td>\n",
       "      <td>9571fc1b978dab6e1f488d52855ef622</td>\n",
       "      <td>13276</td>\n",
       "      <td>SP</td>\n",
       "    </tr>\n",
       "    <tr>\n",
       "      <th>60017</th>\n",
       "      <td>85a08640d88815b0ede472adb059d337</td>\n",
       "      <td>1</td>\n",
       "      <td>3f0376e782caf27ef19342d8e5c7e6f5</td>\n",
       "      <td>8b321bb669392f5163d04c59e235e066</td>\n",
       "      <td>15.00</td>\n",
       "      <td>7.39</td>\n",
       "      <td>72fbca98280bcd9d6131e02416d992f0</td>\n",
       "      <td>delivered</td>\n",
       "      <td>2018-06-29 08:25:50</td>\n",
       "      <td>2018-07-05 21:36:20</td>\n",
       "      <td>...</td>\n",
       "      <td>7.0</td>\n",
       "      <td>-7.0</td>\n",
       "      <td>4.0</td>\n",
       "      <td>0.0</td>\n",
       "      <td>2.0</td>\n",
       "      <td>22.39</td>\n",
       "      <td>technology</td>\n",
       "      <td>2aa8d8ed84f5c0b179efdc88fdd6ceb3</td>\n",
       "      <td>5351</td>\n",
       "      <td>SP</td>\n",
       "    </tr>\n",
       "  </tbody>\n",
       "</table>\n",
       "<p>5 rows × 21 columns</p>\n",
       "</div>"
      ],
      "text/plain": [
       "                               order_id  order_item_id  \\\n",
       "7239   1017e188d93cee2c3292c71a98dbec38              1   \n",
       "86516  c064d2ccc74eafa9f92b6e742708b48c              2   \n",
       "24251  36181ce9f0459af55f5aae302b4b13a8              1   \n",
       "63412  8d7de30c33f737a080cdd433ec8670e4              1   \n",
       "60017  85a08640d88815b0ede472adb059d337              1   \n",
       "\n",
       "                             product_id                         seller_id  \\\n",
       "7239   8d23da47a7828cf786103f1c3fbeab43  004c9cd9d87a3c30c522c48c4fc07416   \n",
       "86516  297b52b57d258e1a40202d4f9fb7e38a  620c87c171fb2a6dd6e8bb4dec959fc6   \n",
       "24251  bb50f2e236e5eea0100680137654686c  f7ba60f8c3f99e7ee4042fdef03b70c4   \n",
       "63412  a963ea4d494221de09b70f1b4a70edbd  bd0389da23d89b726abf911cccc54596   \n",
       "60017  3f0376e782caf27ef19342d8e5c7e6f5  8b321bb669392f5163d04c59e235e066   \n",
       "\n",
       "        price  freight_value                       customer_id order_status  \\\n",
       "7239   143.99          21.09  861728f9a0d9bfa588e238e30a20e278    delivered   \n",
       "86516   29.90          18.23  27e703f1e927f1651f5fccdd365cd3e0    delivered   \n",
       "24251  325.00          10.04  5f82b6799f7f5bda22833caafe7e8cd2    delivered   \n",
       "63412   89.90          17.34  0b95e76c8ededa5139d9f8b5eed8f904    delivered   \n",
       "60017   15.00           7.39  72fbca98280bcd9d6131e02416d992f0    delivered   \n",
       "\n",
       "      order_purchase_timestamp order_delivered_customer_date  ...  \\\n",
       "7239       2017-04-20 17:17:29           2017-05-03 12:36:30  ...   \n",
       "86516      2018-05-11 10:49:25           2018-06-04 21:22:47  ...   \n",
       "24251      2018-03-12 19:37:14           2018-03-15 20:03:14  ...   \n",
       "63412      2018-04-04 08:14:06           2018-04-14 12:21:35  ...   \n",
       "60017      2018-06-29 08:25:50           2018-07-05 21:36:20  ...   \n",
       "\n",
       "       duration_delivery  difference_real_estimated_delivery  review_score  \\\n",
       "7239                13.0                               -12.0           5.0   \n",
       "86516               24.0                                 6.0           2.0   \n",
       "24251                3.0                                -6.0           5.0   \n",
       "63412               10.0                               -10.0           4.0   \n",
       "60017                7.0                                -7.0           4.0   \n",
       "\n",
       "       reviews_number  payment_installments  payment_value  product_category  \\\n",
       "7239              0.0                   5.0          97.46    home_furniture   \n",
       "86516             0.0                   2.0          96.26     health_beauty   \n",
       "24251             0.0                   3.0         335.04     health_beauty   \n",
       "63412             0.0                   1.0         107.24        technology   \n",
       "60017             0.0                   2.0          22.39        technology   \n",
       "\n",
       "                     customer_unique_id customer_zip_code_prefix  \\\n",
       "7239   d01e34f5bfc7a0f5102b962efd522981                    88503   \n",
       "86516  0d27736889ec9fe9aee055fd301ae784                    31525   \n",
       "24251  69173628c3f6d1c28d6285dfdf9f5dcc                     5509   \n",
       "63412  9571fc1b978dab6e1f488d52855ef622                    13276   \n",
       "60017  2aa8d8ed84f5c0b179efdc88fdd6ceb3                     5351   \n",
       "\n",
       "       customer_state  \n",
       "7239               SC  \n",
       "86516              MG  \n",
       "24251              SP  \n",
       "63412              SP  \n",
       "60017              SP  \n",
       "\n",
       "[5 rows x 21 columns]"
      ]
     },
     "execution_count": 66,
     "metadata": {},
     "output_type": "execute_result"
    }
   ],
   "source": [
    "customers_subset = customers[['customer_id', 'customer_unique_id', 'customer_zip_code_prefix', 'customer_state']]\n",
    "\n",
    "order_items = pd.merge(order_items, customers_subset, on='customer_id', how='left')\n",
    "order_items.sample(5)"
   ]
  },
  {
   "cell_type": "code",
   "execution_count": 67,
   "metadata": {},
   "outputs": [
    {
     "data": {
      "text/plain": [
       "(115038, 21)"
      ]
     },
     "execution_count": 67,
     "metadata": {},
     "output_type": "execute_result"
    }
   ],
   "source": [
    "order_items.shape"
   ]
  },
  {
   "cell_type": "code",
   "execution_count": 68,
   "metadata": {},
   "outputs": [
    {
     "name": "stdout",
     "output_type": "stream",
     "text": [
      "         customer_zip_code_prefix  customer_lng  customer_lat\n",
      "2                            1046    -46.642951    -23.546129\n",
      "10                           1013    -46.634184    -23.547325\n",
      "13                           1012    -46.634671    -23.548946\n",
      "14                           1037    -46.637855    -23.545187\n",
      "15                           1046    -46.644820    -23.546081\n",
      "...                           ...           ...           ...\n",
      "1000158                     99950    -52.010705    -28.068639\n",
      "1000159                     99900    -52.224882    -27.877125\n",
      "1000160                     99950    -52.014716    -28.071855\n",
      "1000161                     99980    -51.846871    -28.388932\n",
      "1000162                     99950    -52.018658    -28.070104\n",
      "\n",
      "[981148 rows x 3 columns]\n"
     ]
    }
   ],
   "source": [
    "geoloc = geolocation[['geolocation_zip_code_prefix','geolocation_lng', 'geolocation_lat']]\n",
    "geoloc.columns = ['customer_zip_code_prefix', 'customer_lng', 'customer_lat']\n",
    "\n",
    "duplicates = geoloc[geoloc.duplicated(subset='customer_zip_code_prefix')]\n",
    "print(duplicates)"
   ]
  },
  {
   "cell_type": "code",
   "execution_count": 69,
   "metadata": {},
   "outputs": [],
   "source": [
    "geoloc_mean = geoloc.groupby('customer_zip_code_prefix').mean().reset_index()\n",
    "order_items = pd.merge(order_items, geoloc_mean,\n",
    "                       how=\"left\",\n",
    "                       on=\"customer_zip_code_prefix\")"
   ]
  },
  {
   "cell_type": "code",
   "execution_count": 70,
   "metadata": {},
   "outputs": [
    {
     "data": {
      "text/plain": [
       "(115038, 23)"
      ]
     },
     "execution_count": 70,
     "metadata": {},
     "output_type": "execute_result"
    }
   ],
   "source": [
    "order_items.shape"
   ]
  },
  {
   "cell_type": "markdown",
   "metadata": {},
   "source": [
    "#### Jointure avec le dataset sellers"
   ]
  },
  {
   "cell_type": "code",
   "execution_count": 71,
   "metadata": {},
   "outputs": [],
   "source": [
    "sellers_subset = sellers[['seller_id', 'seller_zip_code_prefix', 'seller_state']]\n",
    "order_items = pd.merge(order_items, sellers_subset, on='seller_id', how='left')"
   ]
  },
  {
   "cell_type": "code",
   "execution_count": 72,
   "metadata": {},
   "outputs": [],
   "source": [
    "geoloc.columns = ['seller_zip_code_prefix', 'seller_lng', 'seller_lat']\n",
    "geoloc_mean = geoloc.groupby('seller_zip_code_prefix').mean().reset_index()\n",
    "order_items = pd.merge(order_items, geoloc_mean,\n",
    "                       how=\"left\",\n",
    "                       on=\"seller_zip_code_prefix\")"
   ]
  },
  {
   "cell_type": "markdown",
   "metadata": {},
   "source": [
    "#### Distance Haversine entre le vendeur et l'acheteur"
   ]
  },
  {
   "cell_type": "code",
   "execution_count": 73,
   "metadata": {},
   "outputs": [
    {
     "data": {
      "text/plain": [
       "Text(0.5, 0.98, 'Distribution des distances entre client et vendeur')"
      ]
     },
     "execution_count": 73,
     "metadata": {},
     "output_type": "execute_result"
    },
    {
     "data": {
      "image/png": "[encoded data removed]",
      "text/plain": [
       "<Figure size 640x480 with 1 Axes>"
      ]
     },
     "metadata": {},
     "output_type": "display_data"
    }
   ],
   "source": [
    "def haversine_np(lon1, lat1, lon2, lat2):\n",
    "    lon1, lat1, lon2, lat2 = map(np.radians, [lon1, lat1, lon2, lat2])\n",
    "\n",
    "    dlon = lon2 - lon1\n",
    "    dlat = lat2 - lat1\n",
    "\n",
    "    a = np.sin(dlat/2.0)**2 + np.cos(lat1) * np.cos(lat2) * np.sin(dlon/2.0)**2\n",
    "\n",
    "    c = 2 * np.arcsin(np.sqrt(a))\n",
    "    km = 6367 * c\n",
    "    return km\n",
    "\n",
    "\n",
    "def distance_client_vendeur(df):\n",
    "    return haversine_np(df['customer_lng'], df['customer_lat'],\n",
    "                        df['seller_lng'], df['seller_lat'])\n",
    "\n",
    "\n",
    "order_items['distance_km'] = distance_client_vendeur(order_items)\n",
    "order_items['distance_km'].hist(bins=60)\n",
    "plt.suptitle('Distribution des distances entre client et vendeur')"
   ]
  },
  {
   "cell_type": "code",
   "execution_count": 74,
   "metadata": {},
   "outputs": [
    {
     "name": "stdout",
     "output_type": "stream",
     "text": [
      "order_id                                0\n",
      "order_item_id                           0\n",
      "product_id                              0\n",
      "seller_id                               0\n",
      "price                                   0\n",
      "freight_value                           0\n",
      "customer_id                             0\n",
      "order_status                            0\n",
      "order_purchase_timestamp                0\n",
      "order_delivered_customer_date           8\n",
      "sale_month                              0\n",
      "duration_delivery                       8\n",
      "difference_real_estimated_delivery      8\n",
      "review_score                          861\n",
      "reviews_number                        861\n",
      "payment_installments                    3\n",
      "payment_value                           3\n",
      "product_category                        0\n",
      "customer_unique_id                      0\n",
      "customer_zip_code_prefix                0\n",
      "customer_state                          0\n",
      "customer_lng                          298\n",
      "customer_lat                          298\n",
      "seller_zip_code_prefix                  0\n",
      "seller_state                            0\n",
      "seller_lng                            257\n",
      "seller_lat                            257\n",
      "distance_km                           554\n",
      "dtype: int64\n"
     ]
    }
   ],
   "source": [
    "missing_values = order_items.isna().sum()\n",
    "print(missing_values)"
   ]
  },
  {
   "cell_type": "code",
   "execution_count": 75,
   "metadata": {},
   "outputs": [
    {
     "data": {
      "text/plain": [
       "(113613, 28)"
      ]
     },
     "execution_count": 75,
     "metadata": {},
     "output_type": "execute_result"
    }
   ],
   "source": [
    "order_items_cleaned = order_items.dropna()\n",
    "order_items_cleaned.shape"
   ]
  },
  {
   "cell_type": "code",
   "execution_count": 76,
   "metadata": {},
   "outputs": [],
   "source": [
    "missing_values = order_items_cleaned.isna().sum()"
   ]
  },
  {
   "cell_type": "markdown",
   "metadata": {},
   "source": [
    "### Récence, Fréquence, Montant"
   ]
  },
  {
   "cell_type": "markdown",
   "metadata": {},
   "source": [
    "Un customer_unique_id peut avoir plusieurs customer_id, un à chaque commande.  \n",
    "La fréquence sera calculée avec le count de customer_id.  \n",
    "Pour la récence, on prendra comme référence la date du tout dernier achat du dataset.  \n",
    "Le montant total sur la période du dataset sera calculée avec la somme de payment_value.  \n",
    "Dans le cadre de la RFMS, la satisfaction sera calculée avec la moyenne du review_score.  "
   ]
  },
  {
   "cell_type": "code",
   "execution_count": 77,
   "metadata": {},
   "outputs": [
    {
     "data": {
      "text/html": [
       "<div>\n",
       "<style scoped>\n",
       "    .dataframe tbody tr th:only-of-type {\n",
       "        vertical-align: middle;\n",
       "    }\n",
       "\n",
       "    .dataframe tbody tr th {\n",
       "        vertical-align: top;\n",
       "    }\n",
       "\n",
       "    .dataframe thead th {\n",
       "        text-align: right;\n",
       "    }\n",
       "</style>\n",
       "<table border=\"1\" class=\"dataframe\">\n",
       "  <thead>\n",
       "    <tr style=\"text-align: right;\">\n",
       "      <th></th>\n",
       "      <th>dernier_achat</th>\n",
       "      <th>Frequence</th>\n",
       "      <th>Montant</th>\n",
       "      <th>Satisfaction</th>\n",
       "      <th>Recence</th>\n",
       "    </tr>\n",
       "    <tr>\n",
       "      <th>customer_unique_id</th>\n",
       "      <th></th>\n",
       "      <th></th>\n",
       "      <th></th>\n",
       "      <th></th>\n",
       "      <th></th>\n",
       "    </tr>\n",
       "  </thead>\n",
       "  <tbody>\n",
       "    <tr>\n",
       "      <th>9a736b248f67d166d2fbb006bcb877c3</th>\n",
       "      <td>2017-08-08 20:26:31</td>\n",
       "      <td>75</td>\n",
       "      <td>556.13</td>\n",
       "      <td>5.000000</td>\n",
       "      <td>434</td>\n",
       "    </tr>\n",
       "    <tr>\n",
       "      <th>6fbc7cdadbb522125f4b27ae9dee4060</th>\n",
       "      <td>2017-09-23 14:56:45</td>\n",
       "      <td>38</td>\n",
       "      <td>411.48</td>\n",
       "      <td>5.000000</td>\n",
       "      <td>388</td>\n",
       "    </tr>\n",
       "    <tr>\n",
       "      <th>f9ae226291893fda10af7965268fb7f6</th>\n",
       "      <td>2017-03-11 18:34:44</td>\n",
       "      <td>35</td>\n",
       "      <td>946.47</td>\n",
       "      <td>3.685714</td>\n",
       "      <td>584</td>\n",
       "    </tr>\n",
       "    <tr>\n",
       "      <th>569aa12b73b5f7edeaa6f2a01603e381</th>\n",
       "      <td>2017-06-07 12:05:10</td>\n",
       "      <td>26</td>\n",
       "      <td>62.68</td>\n",
       "      <td>5.000000</td>\n",
       "      <td>497</td>\n",
       "    </tr>\n",
       "    <tr>\n",
       "      <th>85963fd37bfd387aa6d915d8a1065486</th>\n",
       "      <td>2018-02-14 16:34:27</td>\n",
       "      <td>24</td>\n",
       "      <td>1758.88</td>\n",
       "      <td>5.000000</td>\n",
       "      <td>244</td>\n",
       "    </tr>\n",
       "  </tbody>\n",
       "</table>\n",
       "</div>"
      ],
      "text/plain": [
       "                                       dernier_achat  Frequence  Montant  \\\n",
       "customer_unique_id                                                         \n",
       "9a736b248f67d166d2fbb006bcb877c3 2017-08-08 20:26:31         75   556.13   \n",
       "6fbc7cdadbb522125f4b27ae9dee4060 2017-09-23 14:56:45         38   411.48   \n",
       "f9ae226291893fda10af7965268fb7f6 2017-03-11 18:34:44         35   946.47   \n",
       "569aa12b73b5f7edeaa6f2a01603e381 2017-06-07 12:05:10         26    62.68   \n",
       "85963fd37bfd387aa6d915d8a1065486 2018-02-14 16:34:27         24  1758.88   \n",
       "\n",
       "                                  Satisfaction  Recence  \n",
       "customer_unique_id                                       \n",
       "9a736b248f67d166d2fbb006bcb877c3      5.000000      434  \n",
       "6fbc7cdadbb522125f4b27ae9dee4060      5.000000      388  \n",
       "f9ae226291893fda10af7965268fb7f6      3.685714      584  \n",
       "569aa12b73b5f7edeaa6f2a01603e381      5.000000      497  \n",
       "85963fd37bfd387aa6d915d8a1065486      5.000000      244  "
      ]
     },
     "execution_count": 77,
     "metadata": {},
     "output_type": "execute_result"
    }
   ],
   "source": [
    "clients = order_items_cleaned.groupby(\"customer_unique_id\").agg({\n",
    "    'order_purchase_timestamp': 'max',\n",
    "    'customer_id': 'count',\n",
    "    'payment_value': 'sum',\n",
    "    'review_score': 'mean'\n",
    "})\n",
    "\n",
    "last_date = order_items_cleaned['order_delivered_customer_date'].max()\n",
    "\n",
    "clients.columns = ['dernier_achat', 'Frequence', 'Montant', 'Satisfaction']\n",
    "clients['Recence'] = (last_date - clients['dernier_achat']).dt.days\n",
    "clients.sort_values(by='Frequence', ascending=False).head()"
   ]
  },
  {
   "cell_type": "code",
   "execution_count": 78,
   "metadata": {},
   "outputs": [
    {
     "data": {
      "text/html": [
       "<div>\n",
       "<style scoped>\n",
       "    .dataframe tbody tr th:only-of-type {\n",
       "        vertical-align: middle;\n",
       "    }\n",
       "\n",
       "    .dataframe tbody tr th {\n",
       "        vertical-align: top;\n",
       "    }\n",
       "\n",
       "    .dataframe thead th {\n",
       "        text-align: right;\n",
       "    }\n",
       "</style>\n",
       "<table border=\"1\" class=\"dataframe\">\n",
       "  <thead>\n",
       "    <tr style=\"text-align: right;\">\n",
       "      <th></th>\n",
       "      <th>dernier_achat</th>\n",
       "      <th>Frequence</th>\n",
       "      <th>Montant</th>\n",
       "      <th>Satisfaction</th>\n",
       "      <th>Recence</th>\n",
       "      <th>delivery_days</th>\n",
       "      <th>delivery_error_days</th>\n",
       "      <th>favourite_category</th>\n",
       "      <th>favourite_month</th>\n",
       "      <th>customer_state</th>\n",
       "      <th>distance_customer_seller</th>\n",
       "      <th>freight_value</th>\n",
       "    </tr>\n",
       "    <tr>\n",
       "      <th>customer_unique_id</th>\n",
       "      <th></th>\n",
       "      <th></th>\n",
       "      <th></th>\n",
       "      <th></th>\n",
       "      <th></th>\n",
       "      <th></th>\n",
       "      <th></th>\n",
       "      <th></th>\n",
       "      <th></th>\n",
       "      <th></th>\n",
       "      <th></th>\n",
       "      <th></th>\n",
       "    </tr>\n",
       "  </thead>\n",
       "  <tbody>\n",
       "    <tr>\n",
       "      <th>8bc6490faac5eb5d8698443dad129f2f</th>\n",
       "      <td>2018-05-18 13:35:18</td>\n",
       "      <td>2</td>\n",
       "      <td>256.12</td>\n",
       "      <td>5.0</td>\n",
       "      <td>151</td>\n",
       "      <td>6.0</td>\n",
       "      <td>-13.0</td>\n",
       "      <td>home_furniture</td>\n",
       "      <td>5</td>\n",
       "      <td>SP</td>\n",
       "      <td>461.838190</td>\n",
       "      <td>10.13</td>\n",
       "    </tr>\n",
       "    <tr>\n",
       "      <th>de4ebdb29ae674d7576e5bdc19a0a828</th>\n",
       "      <td>2018-02-03 13:07:28</td>\n",
       "      <td>2</td>\n",
       "      <td>830.28</td>\n",
       "      <td>5.0</td>\n",
       "      <td>256</td>\n",
       "      <td>15.0</td>\n",
       "      <td>-17.0</td>\n",
       "      <td>sport</td>\n",
       "      <td>2</td>\n",
       "      <td>DF</td>\n",
       "      <td>530.625761</td>\n",
       "      <td>18.57</td>\n",
       "    </tr>\n",
       "    <tr>\n",
       "      <th>d7b021ab5ecb5f1e3a1fa8ed4a65783b</th>\n",
       "      <td>2018-03-09 18:05:10</td>\n",
       "      <td>1</td>\n",
       "      <td>94.43</td>\n",
       "      <td>4.0</td>\n",
       "      <td>221</td>\n",
       "      <td>12.0</td>\n",
       "      <td>-20.0</td>\n",
       "      <td>technology</td>\n",
       "      <td>3</td>\n",
       "      <td>RJ</td>\n",
       "      <td>354.055427</td>\n",
       "      <td>15.43</td>\n",
       "    </tr>\n",
       "    <tr>\n",
       "      <th>af361e6472bebb98baf67b62201f9abb</th>\n",
       "      <td>2018-05-26 13:12:31</td>\n",
       "      <td>2</td>\n",
       "      <td>253.68</td>\n",
       "      <td>4.0</td>\n",
       "      <td>144</td>\n",
       "      <td>14.0</td>\n",
       "      <td>-31.0</td>\n",
       "      <td>home_furniture</td>\n",
       "      <td>5</td>\n",
       "      <td>SC</td>\n",
       "      <td>780.879746</td>\n",
       "      <td>13.52</td>\n",
       "    </tr>\n",
       "    <tr>\n",
       "      <th>0048a779a98a7848514096ff04046079</th>\n",
       "      <td>2018-08-08 12:22:24</td>\n",
       "      <td>1</td>\n",
       "      <td>41.04</td>\n",
       "      <td>5.0</td>\n",
       "      <td>70</td>\n",
       "      <td>6.0</td>\n",
       "      <td>-7.0</td>\n",
       "      <td>home_furniture</td>\n",
       "      <td>8</td>\n",
       "      <td>MG</td>\n",
       "      <td>413.522152</td>\n",
       "      <td>19.34</td>\n",
       "    </tr>\n",
       "  </tbody>\n",
       "</table>\n",
       "</div>"
      ],
      "text/plain": [
       "                                       dernier_achat  Frequence  Montant  \\\n",
       "customer_unique_id                                                         \n",
       "8bc6490faac5eb5d8698443dad129f2f 2018-05-18 13:35:18          2   256.12   \n",
       "de4ebdb29ae674d7576e5bdc19a0a828 2018-02-03 13:07:28          2   830.28   \n",
       "d7b021ab5ecb5f1e3a1fa8ed4a65783b 2018-03-09 18:05:10          1    94.43   \n",
       "af361e6472bebb98baf67b62201f9abb 2018-05-26 13:12:31          2   253.68   \n",
       "0048a779a98a7848514096ff04046079 2018-08-08 12:22:24          1    41.04   \n",
       "\n",
       "                                  Satisfaction  Recence  delivery_days  \\\n",
       "customer_unique_id                                                       \n",
       "8bc6490faac5eb5d8698443dad129f2f           5.0      151            6.0   \n",
       "de4ebdb29ae674d7576e5bdc19a0a828           5.0      256           15.0   \n",
       "d7b021ab5ecb5f1e3a1fa8ed4a65783b           4.0      221           12.0   \n",
       "af361e6472bebb98baf67b62201f9abb           4.0      144           14.0   \n",
       "0048a779a98a7848514096ff04046079           5.0       70            6.0   \n",
       "\n",
       "                                  delivery_error_days favourite_category  \\\n",
       "customer_unique_id                                                         \n",
       "8bc6490faac5eb5d8698443dad129f2f                -13.0     home_furniture   \n",
       "de4ebdb29ae674d7576e5bdc19a0a828                -17.0              sport   \n",
       "d7b021ab5ecb5f1e3a1fa8ed4a65783b                -20.0         technology   \n",
       "af361e6472bebb98baf67b62201f9abb                -31.0     home_furniture   \n",
       "0048a779a98a7848514096ff04046079                 -7.0     home_furniture   \n",
       "\n",
       "                                  favourite_month customer_state  \\\n",
       "customer_unique_id                                                 \n",
       "8bc6490faac5eb5d8698443dad129f2f                5             SP   \n",
       "de4ebdb29ae674d7576e5bdc19a0a828                2             DF   \n",
       "d7b021ab5ecb5f1e3a1fa8ed4a65783b                3             RJ   \n",
       "af361e6472bebb98baf67b62201f9abb                5             SC   \n",
       "0048a779a98a7848514096ff04046079                8             MG   \n",
       "\n",
       "                                  distance_customer_seller  freight_value  \n",
       "customer_unique_id                                                         \n",
       "8bc6490faac5eb5d8698443dad129f2f                461.838190          10.13  \n",
       "de4ebdb29ae674d7576e5bdc19a0a828                530.625761          18.57  \n",
       "d7b021ab5ecb5f1e3a1fa8ed4a65783b                354.055427          15.43  \n",
       "af361e6472bebb98baf67b62201f9abb                780.879746          13.52  \n",
       "0048a779a98a7848514096ff04046079                413.522152          19.34  "
      ]
     },
     "execution_count": 78,
     "metadata": {},
     "output_type": "execute_result"
    }
   ],
   "source": [
    "def most_frequent(x):\n",
    "    if not x.empty:\n",
    "        return x.value_counts().index[0]\n",
    "    else:\n",
    "        return None  \n",
    "\n",
    "\n",
    "clients_agg = order_items_cleaned.groupby('customer_unique_id').agg(\n",
    "    delivery_days=('duration_delivery', 'mean'),\n",
    "    delivery_error_days=('difference_real_estimated_delivery', 'mean'),\n",
    "    favourite_category=('product_category', most_frequent),\n",
    "    favourite_month=('sale_month', most_frequent),\n",
    "    customer_state=('customer_state', most_frequent),\n",
    "    distance_customer_seller=('distance_km', 'mean'),\n",
    "    freight_value=('freight_value', 'mean')\n",
    ")\n",
    "\n",
    "clients = (clients\n",
    "               .join(clients_agg, how='left')\n",
    "               )\n",
    "\n",
    "clients.sample(5)"
   ]
  },
  {
   "cell_type": "code",
   "execution_count": 79,
   "metadata": {},
   "outputs": [
    {
     "data": {
      "text/html": [
       "<div>\n",
       "<style scoped>\n",
       "    .dataframe tbody tr th:only-of-type {\n",
       "        vertical-align: middle;\n",
       "    }\n",
       "\n",
       "    .dataframe tbody tr th {\n",
       "        vertical-align: top;\n",
       "    }\n",
       "\n",
       "    .dataframe thead th {\n",
       "        text-align: right;\n",
       "    }\n",
       "</style>\n",
       "<table border=\"1\" class=\"dataframe\">\n",
       "  <thead>\n",
       "    <tr style=\"text-align: right;\">\n",
       "      <th></th>\n",
       "      <th>dernier_achat</th>\n",
       "      <th>Frequence</th>\n",
       "      <th>Montant</th>\n",
       "      <th>Satisfaction</th>\n",
       "      <th>Recence</th>\n",
       "      <th>delivery_days</th>\n",
       "      <th>delivery_error_days</th>\n",
       "      <th>favourite_category</th>\n",
       "      <th>favourite_month</th>\n",
       "      <th>customer_state</th>\n",
       "      <th>distance_customer_seller</th>\n",
       "      <th>freight_value</th>\n",
       "    </tr>\n",
       "    <tr>\n",
       "      <th>customer_unique_id</th>\n",
       "      <th></th>\n",
       "      <th></th>\n",
       "      <th></th>\n",
       "      <th></th>\n",
       "      <th></th>\n",
       "      <th></th>\n",
       "      <th></th>\n",
       "      <th></th>\n",
       "      <th></th>\n",
       "      <th></th>\n",
       "      <th></th>\n",
       "      <th></th>\n",
       "    </tr>\n",
       "  </thead>\n",
       "  <tbody>\n",
       "    <tr>\n",
       "      <th>53dad0f86e33e3e263658b3484563365</th>\n",
       "      <td>2018-01-09 20:39:23</td>\n",
       "      <td>1</td>\n",
       "      <td>86.24</td>\n",
       "      <td>5.0</td>\n",
       "      <td>280</td>\n",
       "      <td>10.0</td>\n",
       "      <td>-27.0</td>\n",
       "      <td>toys_baby</td>\n",
       "      <td>1</td>\n",
       "      <td>MS</td>\n",
       "      <td>640.386524</td>\n",
       "      <td>16.25</td>\n",
       "    </tr>\n",
       "    <tr>\n",
       "      <th>27e93c3b54ba3fa1966bf7d23e01c58d</th>\n",
       "      <td>2017-09-14 11:40:08</td>\n",
       "      <td>1</td>\n",
       "      <td>53.09</td>\n",
       "      <td>4.0</td>\n",
       "      <td>398</td>\n",
       "      <td>20.0</td>\n",
       "      <td>2.0</td>\n",
       "      <td>technology</td>\n",
       "      <td>9</td>\n",
       "      <td>RJ</td>\n",
       "      <td>338.501749</td>\n",
       "      <td>14.10</td>\n",
       "    </tr>\n",
       "    <tr>\n",
       "      <th>397567bb88c56e494c4b4173b676266e</th>\n",
       "      <td>2018-08-21 11:21:23</td>\n",
       "      <td>1</td>\n",
       "      <td>162.12</td>\n",
       "      <td>5.0</td>\n",
       "      <td>57</td>\n",
       "      <td>7.0</td>\n",
       "      <td>-8.0</td>\n",
       "      <td>health_beauty</td>\n",
       "      <td>8</td>\n",
       "      <td>PE</td>\n",
       "      <td>1126.587966</td>\n",
       "      <td>39.13</td>\n",
       "    </tr>\n",
       "    <tr>\n",
       "      <th>ed33f787f6431b04641f53e575b2648c</th>\n",
       "      <td>2018-04-04 21:53:53</td>\n",
       "      <td>2</td>\n",
       "      <td>287.12</td>\n",
       "      <td>5.0</td>\n",
       "      <td>195</td>\n",
       "      <td>7.0</td>\n",
       "      <td>-4.0</td>\n",
       "      <td>home_furniture</td>\n",
       "      <td>4</td>\n",
       "      <td>SP</td>\n",
       "      <td>24.471444</td>\n",
       "      <td>8.88</td>\n",
       "    </tr>\n",
       "    <tr>\n",
       "      <th>fc0bcca3d8d90a812b707bb8e45069d6</th>\n",
       "      <td>2018-06-02 18:37:14</td>\n",
       "      <td>1</td>\n",
       "      <td>44.63</td>\n",
       "      <td>4.0</td>\n",
       "      <td>136</td>\n",
       "      <td>137.0</td>\n",
       "      <td>97.0</td>\n",
       "      <td>home_furniture</td>\n",
       "      <td>6</td>\n",
       "      <td>ES</td>\n",
       "      <td>856.001918</td>\n",
       "      <td>18.23</td>\n",
       "    </tr>\n",
       "  </tbody>\n",
       "</table>\n",
       "</div>"
      ],
      "text/plain": [
       "                                       dernier_achat  Frequence  Montant  \\\n",
       "customer_unique_id                                                         \n",
       "53dad0f86e33e3e263658b3484563365 2018-01-09 20:39:23          1    86.24   \n",
       "27e93c3b54ba3fa1966bf7d23e01c58d 2017-09-14 11:40:08          1    53.09   \n",
       "397567bb88c56e494c4b4173b676266e 2018-08-21 11:21:23          1   162.12   \n",
       "ed33f787f6431b04641f53e575b2648c 2018-04-04 21:53:53          2   287.12   \n",
       "fc0bcca3d8d90a812b707bb8e45069d6 2018-06-02 18:37:14          1    44.63   \n",
       "\n",
       "                                  Satisfaction  Recence  delivery_days  \\\n",
       "customer_unique_id                                                       \n",
       "53dad0f86e33e3e263658b3484563365           5.0      280           10.0   \n",
       "27e93c3b54ba3fa1966bf7d23e01c58d           4.0      398           20.0   \n",
       "397567bb88c56e494c4b4173b676266e           5.0       57            7.0   \n",
       "ed33f787f6431b04641f53e575b2648c           5.0      195            7.0   \n",
       "fc0bcca3d8d90a812b707bb8e45069d6           4.0      136          137.0   \n",
       "\n",
       "                                  delivery_error_days favourite_category  \\\n",
       "customer_unique_id                                                         \n",
       "53dad0f86e33e3e263658b3484563365                -27.0          toys_baby   \n",
       "27e93c3b54ba3fa1966bf7d23e01c58d                  2.0         technology   \n",
       "397567bb88c56e494c4b4173b676266e                 -8.0      health_beauty   \n",
       "ed33f787f6431b04641f53e575b2648c                 -4.0     home_furniture   \n",
       "fc0bcca3d8d90a812b707bb8e45069d6                 97.0     home_furniture   \n",
       "\n",
       "                                  favourite_month customer_state  \\\n",
       "customer_unique_id                                                 \n",
       "53dad0f86e33e3e263658b3484563365                1             MS   \n",
       "27e93c3b54ba3fa1966bf7d23e01c58d                9             RJ   \n",
       "397567bb88c56e494c4b4173b676266e                8             PE   \n",
       "ed33f787f6431b04641f53e575b2648c                4             SP   \n",
       "fc0bcca3d8d90a812b707bb8e45069d6                6             ES   \n",
       "\n",
       "                                  distance_customer_seller  freight_value  \n",
       "customer_unique_id                                                         \n",
       "53dad0f86e33e3e263658b3484563365                640.386524          16.25  \n",
       "27e93c3b54ba3fa1966bf7d23e01c58d                338.501749          14.10  \n",
       "397567bb88c56e494c4b4173b676266e               1126.587966          39.13  \n",
       "ed33f787f6431b04641f53e575b2648c                 24.471444           8.88  \n",
       "fc0bcca3d8d90a812b707bb8e45069d6                856.001918          18.23  "
      ]
     },
     "execution_count": 79,
     "metadata": {},
     "output_type": "execute_result"
    }
   ],
   "source": [
    "clients.sample(5)"
   ]
  },
  {
   "cell_type": "code",
   "execution_count": 80,
   "metadata": {},
   "outputs": [],
   "source": [
    "clients.to_csv('olist/clients.csv')"
   ]
  }
 ],
 "metadata": {
  "kernelspec": {
   "display_name": "Python 3",
   "language": "python",
   "name": "python3"
  },
  "language_info": {
   "codemirror_mode": {
    "name": "ipython",
    "version": 3
   },
   "file_extension": ".py",
   "mimetype": "text/x-python",
   "name": "python",
   "nbconvert_exporter": "python",
   "pygments_lexer": "ipython3",
   "version": "3.9.4"
  },
  "orig_nbformat": 4
 },
 "nbformat": 4,
 "nbformat_minor": 2
}
